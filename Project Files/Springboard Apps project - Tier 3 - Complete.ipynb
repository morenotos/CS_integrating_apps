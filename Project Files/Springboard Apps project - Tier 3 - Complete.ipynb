{
 "cells": [
  {
   "cell_type": "markdown",
   "metadata": {
    "colab_type": "text",
    "id": "i2RUFW7TFcuh"
   },
   "source": [
    "# Springboard Apps project - Tier 3 - Complete\n",
    "\n",
    "Welcome to the Apps project! To give you a taste of your future career, we're going to walk through exactly the kind of notebook that you'd write as a data scientist. In the process, we'll be sure to signpost the general framework for our investigation - the Data Science Pipeline - as well as give reasons for why we're doing what we're doing. We're also going to apply some of the skills and knowledge you've built up in the previous unit when reading Professor Spiegelhalter's *The Art of Statistics* (hereinafter *AoS*). \n",
    "\n",
    "So let's get cracking!\n",
    "\n",
    "**Brief**\n",
    "\n",
    "Did Apple Store apps receive better reviews than Google Play apps?\n",
    "\n",
    "## Stages of the project\n",
    "\n",
    "1. Sourcing and loading \n",
    "    * Load the two datasets\n",
    "    * Pick the columns that we are going to work with \n",
    "    * Subsetting the data on this basis \n",
    " \n",
    " \n",
    "2. Cleaning, transforming and visualizing\n",
    "    * Check the data types and fix them\n",
    "    * Add a `platform` column to both the `Apple` and the `Google` dataframes\n",
    "    * Changing the column names to prepare for a join \n",
    "    * Join the two data sets\n",
    "    * Eliminate the `NaN` values\n",
    "    * Filter only those apps that have been reviewed at least once\n",
    "    * Summarize the data visually and analytically (by the column `platform`)  \n",
    "  \n",
    "  \n",
    "3. Modelling \n",
    "    * Hypothesis formulation\n",
    "    * Getting the distribution of the data\n",
    "    * Permutation test \n",
    "\n",
    "\n",
    "4. Evaluating and concluding \n",
    "    * What is our conclusion?\n",
    "    * What is our decision?\n",
    "    * Other models we could have used. \n",
    "    "
   ]
  },
  {
   "cell_type": "markdown",
   "metadata": {
    "colab_type": "text",
    "id": "QLUAXtl1Fcuk"
   },
   "source": [
    "## Importing the libraries\n",
    "\n",
    "In this case we are going to import pandas, numpy, scipy, random and matplotlib.pyplot"
   ]
  },
  {
   "cell_type": "code",
   "execution_count": 1,
   "metadata": {
    "colab": {},
    "colab_type": "code",
    "id": "XeXJOlGiFcum"
   },
   "outputs": [],
   "source": [
    "import pandas as pd\n",
    "import numpy as np\n",
    "import matplotlib.pyplot as plt\n",
    "# scipi is a library for statistical tests and visualizations \n",
    "from scipy import stats\n",
    "# random enables us to generate random numbers\n",
    "import random"
   ]
  },
  {
   "cell_type": "markdown",
   "metadata": {
    "colab_type": "text",
    "id": "zVD7NlPAFcup"
   },
   "source": [
    "## Stage 1 -  Sourcing and loading data"
   ]
  },
  {
   "cell_type": "markdown",
   "metadata": {
    "colab_type": "text",
    "id": "KU8bdbImFcuq"
   },
   "source": [
    "### 1a. Source and load the data\n",
    "Let's download the data from Kaggle. Kaggle is a fantastic resource: a kind of social medium for data scientists, it boasts projects, datasets and news on the freshest libraries and technologies all in one place. The data from the Apple Store can be found [here](https://www.kaggle.com/ramamet4/app-store-apple-data-set-10k-apps) and the data from Google Store can be found [here](https://www.kaggle.com/lava18/google-play-store-apps).\n",
    "Download the datasets and save them in your working directory."
   ]
  },
  {
   "cell_type": "code",
   "execution_count": 2,
   "metadata": {
    "colab": {},
    "colab_type": "code",
    "id": "laM1PB76Fcur"
   },
   "outputs": [
    {
     "data": {
      "text/html": [
       "<div>\n",
       "<style scoped>\n",
       "    .dataframe tbody tr th:only-of-type {\n",
       "        vertical-align: middle;\n",
       "    }\n",
       "\n",
       "    .dataframe tbody tr th {\n",
       "        vertical-align: top;\n",
       "    }\n",
       "\n",
       "    .dataframe thead th {\n",
       "        text-align: right;\n",
       "    }\n",
       "</style>\n",
       "<table border=\"1\" class=\"dataframe\">\n",
       "  <thead>\n",
       "    <tr style=\"text-align: right;\">\n",
       "      <th></th>\n",
       "      <th>App</th>\n",
       "      <th>Category</th>\n",
       "      <th>Rating</th>\n",
       "      <th>Reviews</th>\n",
       "      <th>Size</th>\n",
       "      <th>Installs</th>\n",
       "      <th>Type</th>\n",
       "      <th>Price</th>\n",
       "      <th>Content Rating</th>\n",
       "      <th>Genres</th>\n",
       "      <th>Last Updated</th>\n",
       "      <th>Current Ver</th>\n",
       "      <th>Android Ver</th>\n",
       "    </tr>\n",
       "  </thead>\n",
       "  <tbody>\n",
       "    <tr>\n",
       "      <th>0</th>\n",
       "      <td>Photo Editor &amp; Candy Camera &amp; Grid &amp; ScrapBook</td>\n",
       "      <td>ART_AND_DESIGN</td>\n",
       "      <td>4.1</td>\n",
       "      <td>159</td>\n",
       "      <td>19M</td>\n",
       "      <td>10,000+</td>\n",
       "      <td>Free</td>\n",
       "      <td>0</td>\n",
       "      <td>Everyone</td>\n",
       "      <td>Art &amp; Design</td>\n",
       "      <td>January 7, 2018</td>\n",
       "      <td>1.0.0</td>\n",
       "      <td>4.0.3 and up</td>\n",
       "    </tr>\n",
       "    <tr>\n",
       "      <th>1</th>\n",
       "      <td>Coloring book moana</td>\n",
       "      <td>ART_AND_DESIGN</td>\n",
       "      <td>3.9</td>\n",
       "      <td>967</td>\n",
       "      <td>14M</td>\n",
       "      <td>500,000+</td>\n",
       "      <td>Free</td>\n",
       "      <td>0</td>\n",
       "      <td>Everyone</td>\n",
       "      <td>Art &amp; Design;Pretend Play</td>\n",
       "      <td>January 15, 2018</td>\n",
       "      <td>2.0.0</td>\n",
       "      <td>4.0.3 and up</td>\n",
       "    </tr>\n",
       "    <tr>\n",
       "      <th>2</th>\n",
       "      <td>U Launcher Lite – FREE Live Cool Themes, Hide ...</td>\n",
       "      <td>ART_AND_DESIGN</td>\n",
       "      <td>4.7</td>\n",
       "      <td>87510</td>\n",
       "      <td>8.7M</td>\n",
       "      <td>5,000,000+</td>\n",
       "      <td>Free</td>\n",
       "      <td>0</td>\n",
       "      <td>Everyone</td>\n",
       "      <td>Art &amp; Design</td>\n",
       "      <td>August 1, 2018</td>\n",
       "      <td>1.2.4</td>\n",
       "      <td>4.0.3 and up</td>\n",
       "    </tr>\n",
       "  </tbody>\n",
       "</table>\n",
       "</div>"
      ],
      "text/plain": [
       "                                                 App        Category  Rating  \\\n",
       "0     Photo Editor & Candy Camera & Grid & ScrapBook  ART_AND_DESIGN     4.1   \n",
       "1                                Coloring book moana  ART_AND_DESIGN     3.9   \n",
       "2  U Launcher Lite – FREE Live Cool Themes, Hide ...  ART_AND_DESIGN     4.7   \n",
       "\n",
       "  Reviews  Size    Installs  Type Price Content Rating  \\\n",
       "0     159   19M     10,000+  Free     0       Everyone   \n",
       "1     967   14M    500,000+  Free     0       Everyone   \n",
       "2   87510  8.7M  5,000,000+  Free     0       Everyone   \n",
       "\n",
       "                      Genres      Last Updated Current Ver   Android Ver  \n",
       "0               Art & Design   January 7, 2018       1.0.0  4.0.3 and up  \n",
       "1  Art & Design;Pretend Play  January 15, 2018       2.0.0  4.0.3 and up  \n",
       "2               Art & Design    August 1, 2018       1.2.4  4.0.3 and up  "
      ]
     },
     "execution_count": 2,
     "metadata": {},
     "output_type": "execute_result"
    }
   ],
   "source": [
    "# Now that the files are saved, we want to load them into Python using read_csv and pandas.\n",
    "\n",
    "# Create a variable called google, and store in it the path of the csv file that contains your google dataset. \n",
    "# If your dataset is in the same folder as this notebook, the path will simply be the name of the file. \n",
    "google = 'googleplaystore.csv'\n",
    "\n",
    "# Read the csv file into a data frame called Google using the read_csv() pandas method.\n",
    "Google = pd.read_csv(google)\n",
    "\n",
    "# Using the head() pandas method, observe the first three entries.\n",
    "Google.head(3)"
   ]
  },
  {
   "cell_type": "code",
   "execution_count": 3,
   "metadata": {
    "colab": {},
    "colab_type": "code",
    "id": "3AW8EA1wFcuu"
   },
   "outputs": [
    {
     "data": {
      "text/html": [
       "<div>\n",
       "<style scoped>\n",
       "    .dataframe tbody tr th:only-of-type {\n",
       "        vertical-align: middle;\n",
       "    }\n",
       "\n",
       "    .dataframe tbody tr th {\n",
       "        vertical-align: top;\n",
       "    }\n",
       "\n",
       "    .dataframe thead th {\n",
       "        text-align: right;\n",
       "    }\n",
       "</style>\n",
       "<table border=\"1\" class=\"dataframe\">\n",
       "  <thead>\n",
       "    <tr style=\"text-align: right;\">\n",
       "      <th></th>\n",
       "      <th>Unnamed: 0</th>\n",
       "      <th>id</th>\n",
       "      <th>track_name</th>\n",
       "      <th>size_bytes</th>\n",
       "      <th>currency</th>\n",
       "      <th>price</th>\n",
       "      <th>rating_count_tot</th>\n",
       "      <th>rating_count_ver</th>\n",
       "      <th>user_rating</th>\n",
       "      <th>user_rating_ver</th>\n",
       "      <th>ver</th>\n",
       "      <th>cont_rating</th>\n",
       "      <th>prime_genre</th>\n",
       "      <th>sup_devices.num</th>\n",
       "      <th>ipadSc_urls.num</th>\n",
       "      <th>lang.num</th>\n",
       "      <th>vpp_lic</th>\n",
       "    </tr>\n",
       "  </thead>\n",
       "  <tbody>\n",
       "    <tr>\n",
       "      <th>0</th>\n",
       "      <td>1</td>\n",
       "      <td>281656475</td>\n",
       "      <td>PAC-MAN Premium</td>\n",
       "      <td>100788224</td>\n",
       "      <td>USD</td>\n",
       "      <td>3.99</td>\n",
       "      <td>21292</td>\n",
       "      <td>26</td>\n",
       "      <td>4.0</td>\n",
       "      <td>4.5</td>\n",
       "      <td>6.3.5</td>\n",
       "      <td>4+</td>\n",
       "      <td>Games</td>\n",
       "      <td>38</td>\n",
       "      <td>5</td>\n",
       "      <td>10</td>\n",
       "      <td>1</td>\n",
       "    </tr>\n",
       "    <tr>\n",
       "      <th>1</th>\n",
       "      <td>2</td>\n",
       "      <td>281796108</td>\n",
       "      <td>Evernote - stay organized</td>\n",
       "      <td>158578688</td>\n",
       "      <td>USD</td>\n",
       "      <td>0.00</td>\n",
       "      <td>161065</td>\n",
       "      <td>26</td>\n",
       "      <td>4.0</td>\n",
       "      <td>3.5</td>\n",
       "      <td>8.2.2</td>\n",
       "      <td>4+</td>\n",
       "      <td>Productivity</td>\n",
       "      <td>37</td>\n",
       "      <td>5</td>\n",
       "      <td>23</td>\n",
       "      <td>1</td>\n",
       "    </tr>\n",
       "    <tr>\n",
       "      <th>2</th>\n",
       "      <td>3</td>\n",
       "      <td>281940292</td>\n",
       "      <td>WeatherBug - Local Weather, Radar, Maps, Alerts</td>\n",
       "      <td>100524032</td>\n",
       "      <td>USD</td>\n",
       "      <td>0.00</td>\n",
       "      <td>188583</td>\n",
       "      <td>2822</td>\n",
       "      <td>3.5</td>\n",
       "      <td>4.5</td>\n",
       "      <td>5.0.0</td>\n",
       "      <td>4+</td>\n",
       "      <td>Weather</td>\n",
       "      <td>37</td>\n",
       "      <td>5</td>\n",
       "      <td>3</td>\n",
       "      <td>1</td>\n",
       "    </tr>\n",
       "  </tbody>\n",
       "</table>\n",
       "</div>"
      ],
      "text/plain": [
       "   Unnamed: 0         id                                       track_name  \\\n",
       "0           1  281656475                                  PAC-MAN Premium   \n",
       "1           2  281796108                        Evernote - stay organized   \n",
       "2           3  281940292  WeatherBug - Local Weather, Radar, Maps, Alerts   \n",
       "\n",
       "   size_bytes currency  price  rating_count_tot  rating_count_ver  \\\n",
       "0   100788224      USD   3.99             21292                26   \n",
       "1   158578688      USD   0.00            161065                26   \n",
       "2   100524032      USD   0.00            188583              2822   \n",
       "\n",
       "   user_rating  user_rating_ver    ver cont_rating   prime_genre  \\\n",
       "0          4.0              4.5  6.3.5          4+         Games   \n",
       "1          4.0              3.5  8.2.2          4+  Productivity   \n",
       "2          3.5              4.5  5.0.0          4+       Weather   \n",
       "\n",
       "   sup_devices.num  ipadSc_urls.num  lang.num  vpp_lic  \n",
       "0               38                5        10        1  \n",
       "1               37                5        23        1  \n",
       "2               37                5         3        1  "
      ]
     },
     "execution_count": 3,
     "metadata": {},
     "output_type": "execute_result"
    }
   ],
   "source": [
    "# Create a variable called apple, and store in it the path of the csv file that contains your apple dataset. \n",
    "apple = 'AppleStore.csv'\n",
    "\n",
    "# Read the csv file into a pandas DataFrame object called Apple.\n",
    "Apple = pd.read_csv(apple)\n",
    "\n",
    "# Observe the first three entries like you did with your other data. \n",
    "Apple.head(3)"
   ]
  },
  {
   "cell_type": "markdown",
   "metadata": {
    "colab_type": "text",
    "id": "vljOHKNTFcuw"
   },
   "source": [
    "### 1b. Pick the columns we'll work with\n",
    "\n",
    "From the documentation of these datasets, we can infer that the most appropriate columns to answer the brief are:\n",
    "\n",
    "1. Google:\n",
    "    * `Category` # Do we need this?\n",
    "    * `Rating`\n",
    "    * `Reviews`\n",
    "    * `Price` (maybe)\n",
    "2. Apple:    \n",
    "    * `prime_genre` # Do we need this?\n",
    "    * `user_rating` \n",
    "    * `rating_count_tot`\n",
    "    * `price` (maybe)"
   ]
  },
  {
   "cell_type": "markdown",
   "metadata": {
    "colab_type": "text",
    "id": "uf69AeTvFcux"
   },
   "source": [
    "### 1c. Subsetting accordingly\n",
    "\n",
    "Let's select only those columns that we want to work with from both datasets. We'll overwrite the subsets in the original variables."
   ]
  },
  {
   "cell_type": "code",
   "execution_count": 4,
   "metadata": {
    "colab": {},
    "colab_type": "code",
    "id": "LNSDXyjdFcuy"
   },
   "outputs": [
    {
     "data": {
      "text/html": [
       "<div>\n",
       "<style scoped>\n",
       "    .dataframe tbody tr th:only-of-type {\n",
       "        vertical-align: middle;\n",
       "    }\n",
       "\n",
       "    .dataframe tbody tr th {\n",
       "        vertical-align: top;\n",
       "    }\n",
       "\n",
       "    .dataframe thead th {\n",
       "        text-align: right;\n",
       "    }\n",
       "</style>\n",
       "<table border=\"1\" class=\"dataframe\">\n",
       "  <thead>\n",
       "    <tr style=\"text-align: right;\">\n",
       "      <th></th>\n",
       "      <th>Category</th>\n",
       "      <th>Rating</th>\n",
       "      <th>Reviews</th>\n",
       "      <th>Price</th>\n",
       "    </tr>\n",
       "  </thead>\n",
       "  <tbody>\n",
       "    <tr>\n",
       "      <th>0</th>\n",
       "      <td>ART_AND_DESIGN</td>\n",
       "      <td>4.1</td>\n",
       "      <td>159</td>\n",
       "      <td>0</td>\n",
       "    </tr>\n",
       "    <tr>\n",
       "      <th>1</th>\n",
       "      <td>ART_AND_DESIGN</td>\n",
       "      <td>3.9</td>\n",
       "      <td>967</td>\n",
       "      <td>0</td>\n",
       "    </tr>\n",
       "    <tr>\n",
       "      <th>2</th>\n",
       "      <td>ART_AND_DESIGN</td>\n",
       "      <td>4.7</td>\n",
       "      <td>87510</td>\n",
       "      <td>0</td>\n",
       "    </tr>\n",
       "  </tbody>\n",
       "</table>\n",
       "</div>"
      ],
      "text/plain": [
       "         Category  Rating Reviews Price\n",
       "0  ART_AND_DESIGN     4.1     159     0\n",
       "1  ART_AND_DESIGN     3.9     967     0\n",
       "2  ART_AND_DESIGN     4.7   87510     0"
      ]
     },
     "execution_count": 4,
     "metadata": {},
     "output_type": "execute_result"
    }
   ],
   "source": [
    "# Subset our DataFrame object Google by selecting just the variables ['Category', 'Rating', 'Reviews', 'Price']\n",
    "Google = Google[['Category', 'Rating', 'Reviews', 'Price']]\n",
    "\n",
    "# Check the first three entries\n",
    "Google.head(3)"
   ]
  },
  {
   "cell_type": "code",
   "execution_count": 5,
   "metadata": {
    "colab": {},
    "colab_type": "code",
    "id": "AVCtENPtFcu0"
   },
   "outputs": [
    {
     "data": {
      "text/html": [
       "<div>\n",
       "<style scoped>\n",
       "    .dataframe tbody tr th:only-of-type {\n",
       "        vertical-align: middle;\n",
       "    }\n",
       "\n",
       "    .dataframe tbody tr th {\n",
       "        vertical-align: top;\n",
       "    }\n",
       "\n",
       "    .dataframe thead th {\n",
       "        text-align: right;\n",
       "    }\n",
       "</style>\n",
       "<table border=\"1\" class=\"dataframe\">\n",
       "  <thead>\n",
       "    <tr style=\"text-align: right;\">\n",
       "      <th></th>\n",
       "      <th>prime_genre</th>\n",
       "      <th>user_rating</th>\n",
       "      <th>rating_count_tot</th>\n",
       "      <th>price</th>\n",
       "    </tr>\n",
       "  </thead>\n",
       "  <tbody>\n",
       "    <tr>\n",
       "      <th>0</th>\n",
       "      <td>Games</td>\n",
       "      <td>4.0</td>\n",
       "      <td>21292</td>\n",
       "      <td>3.99</td>\n",
       "    </tr>\n",
       "    <tr>\n",
       "      <th>1</th>\n",
       "      <td>Productivity</td>\n",
       "      <td>4.0</td>\n",
       "      <td>161065</td>\n",
       "      <td>0.00</td>\n",
       "    </tr>\n",
       "    <tr>\n",
       "      <th>2</th>\n",
       "      <td>Weather</td>\n",
       "      <td>3.5</td>\n",
       "      <td>188583</td>\n",
       "      <td>0.00</td>\n",
       "    </tr>\n",
       "    <tr>\n",
       "      <th>3</th>\n",
       "      <td>Shopping</td>\n",
       "      <td>4.0</td>\n",
       "      <td>262241</td>\n",
       "      <td>0.00</td>\n",
       "    </tr>\n",
       "    <tr>\n",
       "      <th>4</th>\n",
       "      <td>Reference</td>\n",
       "      <td>4.5</td>\n",
       "      <td>985920</td>\n",
       "      <td>0.00</td>\n",
       "    </tr>\n",
       "  </tbody>\n",
       "</table>\n",
       "</div>"
      ],
      "text/plain": [
       "    prime_genre  user_rating  rating_count_tot  price\n",
       "0         Games          4.0             21292   3.99\n",
       "1  Productivity          4.0            161065   0.00\n",
       "2       Weather          3.5            188583   0.00\n",
       "3      Shopping          4.0            262241   0.00\n",
       "4     Reference          4.5            985920   0.00"
      ]
     },
     "execution_count": 5,
     "metadata": {},
     "output_type": "execute_result"
    }
   ],
   "source": [
    "# Do the same with our Apple object, selecting just the variables ['prime_genre', 'user_rating', 'rating_count_tot', 'price']\n",
    "Apple = Apple[['prime_genre', 'user_rating', 'rating_count_tot', 'price']]\n",
    "\n",
    "# Let's check the first three entries\n",
    "Apple.head()"
   ]
  },
  {
   "cell_type": "markdown",
   "metadata": {
    "colab_type": "text",
    "id": "wwK2wH-rFcu2"
   },
   "source": [
    "## Stage 2 -  Cleaning, transforming and visualizing"
   ]
  },
  {
   "cell_type": "markdown",
   "metadata": {
    "colab_type": "text",
    "id": "NsoE5x0JFcu3"
   },
   "source": [
    "### 2a. Check the data types for both Apple and Google, and fix them\n",
    "\n",
    "Types are crucial for data science in Python. Let's determine whether the variables we selected in the previous section belong to the types they should do, or whether there are any errors here. "
   ]
  },
  {
   "cell_type": "code",
   "execution_count": 6,
   "metadata": {
    "colab": {},
    "colab_type": "code",
    "id": "ymw10SaWFcu4"
   },
   "outputs": [
    {
     "data": {
      "text/plain": [
       "prime_genre          object\n",
       "user_rating         float64\n",
       "rating_count_tot      int64\n",
       "price               float64\n",
       "dtype: object"
      ]
     },
     "execution_count": 6,
     "metadata": {},
     "output_type": "execute_result"
    }
   ],
   "source": [
    "# Using the dtypes feature of pandas DataFrame objects, check out the data types within our Apple dataframe.\n",
    "# Are they what you expect?\n",
    "Apple.dtypes"
   ]
  },
  {
   "cell_type": "markdown",
   "metadata": {
    "colab_type": "text",
    "id": "VAiM6jIxFcu6"
   },
   "source": [
    "This is looking healthy. But what about our Google data frame?"
   ]
  },
  {
   "cell_type": "code",
   "execution_count": 7,
   "metadata": {
    "colab": {},
    "colab_type": "code",
    "id": "kmP8MhqyFcu7"
   },
   "outputs": [
    {
     "data": {
      "text/plain": [
       "Category     object\n",
       "Rating      float64\n",
       "Reviews      object\n",
       "Price        object\n",
       "dtype: object"
      ]
     },
     "execution_count": 7,
     "metadata": {},
     "output_type": "execute_result"
    }
   ],
   "source": [
    "# Using the same dtypes feature, check out the data types of our Google dataframe. \n",
    "Google.dtypes"
   ]
  },
  {
   "cell_type": "markdown",
   "metadata": {
    "colab_type": "text",
    "id": "O-dxAy0WFcu9"
   },
   "source": [
    "Weird. The data type for the column 'Price' is 'object', not a numeric data type like a float or an integer. Let's investigate the unique values of this column. "
   ]
  },
  {
   "cell_type": "code",
   "execution_count": 8,
   "metadata": {
    "colab": {},
    "colab_type": "code",
    "id": "Hu08K9y7Fcu9"
   },
   "outputs": [
    {
     "data": {
      "text/plain": [
       "array(['0', '$4.99', '$3.99', '$6.99', '$1.49', '$2.99', '$7.99', '$5.99',\n",
       "       '$3.49', '$1.99', '$9.99', '$7.49', '$0.99', '$9.00', '$5.49',\n",
       "       '$10.00', '$24.99', '$11.99', '$79.99', '$16.99', '$14.99',\n",
       "       '$1.00', '$29.99', '$12.99', '$2.49', '$10.99', '$1.50', '$19.99',\n",
       "       '$15.99', '$33.99', '$74.99', '$39.99', '$3.95', '$4.49', '$1.70',\n",
       "       '$8.99', '$2.00', '$3.88', '$25.99', '$399.99', '$17.99',\n",
       "       '$400.00', '$3.02', '$1.76', '$4.84', '$4.77', '$1.61', '$2.50',\n",
       "       '$1.59', '$6.49', '$1.29', '$5.00', '$13.99', '$299.99', '$379.99',\n",
       "       '$37.99', '$18.99', '$389.99', '$19.90', '$8.49', '$1.75',\n",
       "       '$14.00', '$4.85', '$46.99', '$109.99', '$154.99', '$3.08',\n",
       "       '$2.59', '$4.80', '$1.96', '$19.40', '$3.90', '$4.59', '$15.46',\n",
       "       '$3.04', '$4.29', '$2.60', '$3.28', '$4.60', '$28.99', '$2.95',\n",
       "       '$2.90', '$1.97', '$200.00', '$89.99', '$2.56', '$30.99', '$3.61',\n",
       "       '$394.99', '$1.26', 'Everyone', '$1.20', '$1.04'], dtype=object)"
      ]
     },
     "execution_count": 8,
     "metadata": {},
     "output_type": "execute_result"
    }
   ],
   "source": [
    "# Use the unique() pandas method on the Price column to check its unique values. \n",
    "Google.Price.unique()"
   ]
  },
  {
   "cell_type": "markdown",
   "metadata": {
    "colab_type": "text",
    "id": "w_7nkogFFcu_"
   },
   "source": [
    "Aha! Fascinating. There are actually two issues here. \n",
    "\n",
    "- Firstly, there's a price called `Everyone`. That is a massive mistake! \n",
    "- Secondly, there are dollar symbols everywhere! \n",
    "\n",
    "\n",
    "Let's address the first issue first. Let's check the datapoints that have the price value `Everyone`"
   ]
  },
  {
   "cell_type": "code",
   "execution_count": 9,
   "metadata": {
    "colab": {},
    "colab_type": "code",
    "id": "E75WWmhdFcvA"
   },
   "outputs": [
    {
     "data": {
      "text/html": [
       "<div>\n",
       "<style scoped>\n",
       "    .dataframe tbody tr th:only-of-type {\n",
       "        vertical-align: middle;\n",
       "    }\n",
       "\n",
       "    .dataframe tbody tr th {\n",
       "        vertical-align: top;\n",
       "    }\n",
       "\n",
       "    .dataframe thead th {\n",
       "        text-align: right;\n",
       "    }\n",
       "</style>\n",
       "<table border=\"1\" class=\"dataframe\">\n",
       "  <thead>\n",
       "    <tr style=\"text-align: right;\">\n",
       "      <th></th>\n",
       "      <th>Category</th>\n",
       "      <th>Rating</th>\n",
       "      <th>Reviews</th>\n",
       "      <th>Price</th>\n",
       "    </tr>\n",
       "  </thead>\n",
       "  <tbody>\n",
       "    <tr>\n",
       "      <th>10472</th>\n",
       "      <td>1.9</td>\n",
       "      <td>19.0</td>\n",
       "      <td>3.0M</td>\n",
       "      <td>Everyone</td>\n",
       "    </tr>\n",
       "  </tbody>\n",
       "</table>\n",
       "</div>"
      ],
      "text/plain": [
       "      Category  Rating Reviews     Price\n",
       "10472      1.9    19.0    3.0M  Everyone"
      ]
     },
     "execution_count": 9,
     "metadata": {},
     "output_type": "execute_result"
    }
   ],
   "source": [
    "# Let's check which data points have the value 'Everyone' for the 'Price' column by subsetting our Google dataframe.\n",
    "\n",
    "# Subset the Google dataframe on the price column. \n",
    "# To be sure: you want to pick out just those rows whose value for the 'Price' column is just 'Everyone'. \n",
    "Google[Google['Price'] == 'Everyone']"
   ]
  },
  {
   "cell_type": "markdown",
   "metadata": {
    "colab_type": "text",
    "id": "ezfLshdRFcvC"
   },
   "source": [
    "Thankfully, it's just one row. We've gotta get rid of it. "
   ]
  },
  {
   "cell_type": "code",
   "execution_count": 10,
   "metadata": {
    "colab": {},
    "colab_type": "code",
    "id": "DBmjUQUkFcvD"
   },
   "outputs": [
    {
     "data": {
      "text/plain": [
       "array(['0', '$4.99', '$3.99', '$6.99', '$1.49', '$2.99', '$7.99', '$5.99',\n",
       "       '$3.49', '$1.99', '$9.99', '$7.49', '$0.99', '$9.00', '$5.49',\n",
       "       '$10.00', '$24.99', '$11.99', '$79.99', '$16.99', '$14.99',\n",
       "       '$1.00', '$29.99', '$12.99', '$2.49', '$10.99', '$1.50', '$19.99',\n",
       "       '$15.99', '$33.99', '$74.99', '$39.99', '$3.95', '$4.49', '$1.70',\n",
       "       '$8.99', '$2.00', '$3.88', '$25.99', '$399.99', '$17.99',\n",
       "       '$400.00', '$3.02', '$1.76', '$4.84', '$4.77', '$1.61', '$2.50',\n",
       "       '$1.59', '$6.49', '$1.29', '$5.00', '$13.99', '$299.99', '$379.99',\n",
       "       '$37.99', '$18.99', '$389.99', '$19.90', '$8.49', '$1.75',\n",
       "       '$14.00', '$4.85', '$46.99', '$109.99', '$154.99', '$3.08',\n",
       "       '$2.59', '$4.80', '$1.96', '$19.40', '$3.90', '$4.59', '$15.46',\n",
       "       '$3.04', '$4.29', '$2.60', '$3.28', '$4.60', '$28.99', '$2.95',\n",
       "       '$2.90', '$1.97', '$200.00', '$89.99', '$2.56', '$30.99', '$3.61',\n",
       "       '$394.99', '$1.26', '$1.20', '$1.04'], dtype=object)"
      ]
     },
     "execution_count": 10,
     "metadata": {},
     "output_type": "execute_result"
    }
   ],
   "source": [
    "# Let's eliminate that row. \n",
    "\n",
    "# Subset our Google dataframe to pick out just those rows whose value for the 'Price' column is NOT 'Everyone'. \n",
    "# Reassign that subset to the Google variable. \n",
    "# You can do this in two lines or one. Your choice! \n",
    "Google = Google[Google['Price'] != 'Everyone']\n",
    "\n",
    "# Check again the unique values of Google\n",
    "Google.Price.unique()"
   ]
  },
  {
   "cell_type": "markdown",
   "metadata": {
    "colab_type": "text",
    "id": "T43TB4qFFcvF"
   },
   "source": [
    "Our second problem remains: I'm seeing dollar symbols when I close my eyes! (And not in a good way). \n",
    "\n",
    "This is a problem because Python actually considers these values strings. So we can't do mathematical and statistical operations on them until we've made them into numbers. "
   ]
  },
  {
   "cell_type": "code",
   "execution_count": 11,
   "metadata": {
    "colab": {},
    "colab_type": "code",
    "id": "W87gVS9BFcvG"
   },
   "outputs": [],
   "source": [
    "# Let's create a variable called nosymb.\n",
    "# This variable will take the Price column of Google and apply the str.replace() method. \n",
    "nosymb = Google['Price'].str.replace('$', '')\n",
    "\n",
    "# Now we need to do two things:\n",
    "# i. Make the values in the nosymb variable numeric using the to_numeric() pandas method.\n",
    "# ii. Assign this new set of numeric, dollar-sign-less values to Google['Price']. \n",
    "# You can do this in one line if you wish.\n",
    "Google['Price'] = pd.to_numeric(nosymb)"
   ]
  },
  {
   "cell_type": "markdown",
   "metadata": {
    "colab_type": "text",
    "id": "LxpJQ9yyFcvI"
   },
   "source": [
    "Now let's check the data types for our Google dataframe again, to verify that the 'Price' column really is numeric now."
   ]
  },
  {
   "cell_type": "code",
   "execution_count": 12,
   "metadata": {
    "colab": {},
    "colab_type": "code",
    "id": "Fn5Gt-QbFcvI"
   },
   "outputs": [
    {
     "data": {
      "text/plain": [
       "Category     object\n",
       "Rating      float64\n",
       "Reviews      object\n",
       "Price       float64\n",
       "dtype: object"
      ]
     },
     "execution_count": 12,
     "metadata": {},
     "output_type": "execute_result"
    }
   ],
   "source": [
    "# Use the function dtypes. \n",
    "Google.dtypes"
   ]
  },
  {
   "cell_type": "markdown",
   "metadata": {
    "colab_type": "text",
    "id": "FgfuiVo0FcvK"
   },
   "source": [
    "Notice that the column `Reviews` is still an object column. We actually need this column to be a numeric column, too. "
   ]
  },
  {
   "cell_type": "code",
   "execution_count": 13,
   "metadata": {
    "colab": {},
    "colab_type": "code",
    "id": "MiVEWsWBFcvL"
   },
   "outputs": [],
   "source": [
    "# Convert the 'Reviews' column to a numeric data type. \n",
    "Google['Reviews'] = pd.to_numeric(Google['Reviews'])"
   ]
  },
  {
   "cell_type": "code",
   "execution_count": 14,
   "metadata": {
    "colab": {},
    "colab_type": "code",
    "id": "wWJdXXTTFcvN"
   },
   "outputs": [
    {
     "data": {
      "text/plain": [
       "Category     object\n",
       "Rating      float64\n",
       "Reviews       int64\n",
       "Price       float64\n",
       "dtype: object"
      ]
     },
     "execution_count": 14,
     "metadata": {},
     "output_type": "execute_result"
    }
   ],
   "source": [
    "# Let's check the data types of Google again\n",
    "Google.dtypes"
   ]
  },
  {
   "cell_type": "markdown",
   "metadata": {
    "colab_type": "text",
    "id": "OiLm2GEKFcvP"
   },
   "source": [
    "### 2b. Add a `platform` column to both the `Apple` and the `Google` dataframes\n",
    "Let's add a new column to both dataframe objects called `platform`: all of its values in the Google dataframe will be just 'google', and all of its values for the Apple dataframe will be just 'apple'. \n",
    "\n",
    "The reason we're making this column is so that we can ultimately join our Apple and Google data together, and actually test out some hypotheses to solve the problem in our brief. "
   ]
  },
  {
   "cell_type": "code",
   "execution_count": 15,
   "metadata": {
    "colab": {},
    "colab_type": "code",
    "id": "mF-sOcx2FcvQ"
   },
   "outputs": [],
   "source": [
    "# Create a column called 'platform' in both the Apple and Google dataframes. \n",
    "# Add the value 'apple' and the value 'google' as appropriate. \n",
    "Apple['platform'] = 'apple'\n",
    "Google['platform'] = 'google'"
   ]
  },
  {
   "cell_type": "markdown",
   "metadata": {
    "colab_type": "text",
    "id": "EJcry17IFcvS"
   },
   "source": [
    "### 2c. Changing the column names to prepare for our join of the two datasets \n",
    "Since the easiest way to join two datasets is if they have both:\n",
    "- the same number of columns\n",
    "- the same column names\n",
    "we need to rename the columns of `Apple` so that they're the same as the ones of `Google`, or vice versa.\n",
    "\n",
    "In this case, we're going to change the `Apple` columns names to the names of the `Google` columns. \n",
    "\n",
    "This is an important step to unify the two datasets!"
   ]
  },
  {
   "cell_type": "code",
   "execution_count": 16,
   "metadata": {
    "colab": {},
    "colab_type": "code",
    "id": "bdt9XH2KFcvT"
   },
   "outputs": [
    {
     "data": {
      "text/plain": [
       "(Index(['Category', 'Rating', 'Reviews', 'Price', 'platform'], dtype='object'),\n",
       " Index(['Category', 'Rating', 'Reviews', 'Price', 'platform'], dtype='object'))"
      ]
     },
     "execution_count": 16,
     "metadata": {},
     "output_type": "execute_result"
    }
   ],
   "source": [
    "# Create a variable called old_names where you'll store the column names of the Apple dataframe. \n",
    "# Use the feature .columns.\n",
    "old_names = Apple.columns\n",
    "\n",
    "# Create a variable called new_names where you'll store the column names of the Google dataframe. \n",
    "new_names = Google.columns\n",
    "\n",
    "# Use the rename() DataFrame method to change the columns names. \n",
    "Apple.columns = new_names\n",
    "Apple.columns, Google.columns"
   ]
  },
  {
   "cell_type": "markdown",
   "metadata": {
    "colab_type": "text",
    "id": "qewPiLrRFcvX"
   },
   "source": [
    "### 2d. Join the two datasets \n",
    "Let's combine the two datasets into a single data frame called `df`."
   ]
  },
  {
   "cell_type": "code",
   "execution_count": 17,
   "metadata": {
    "colab": {},
    "colab_type": "code",
    "id": "jq6fGfvyFcvY"
   },
   "outputs": [
    {
     "data": {
      "text/html": [
       "<div>\n",
       "<style scoped>\n",
       "    .dataframe tbody tr th:only-of-type {\n",
       "        vertical-align: middle;\n",
       "    }\n",
       "\n",
       "    .dataframe tbody tr th {\n",
       "        vertical-align: top;\n",
       "    }\n",
       "\n",
       "    .dataframe thead th {\n",
       "        text-align: right;\n",
       "    }\n",
       "</style>\n",
       "<table border=\"1\" class=\"dataframe\">\n",
       "  <thead>\n",
       "    <tr style=\"text-align: right;\">\n",
       "      <th></th>\n",
       "      <th>Category</th>\n",
       "      <th>Rating</th>\n",
       "      <th>Reviews</th>\n",
       "      <th>Price</th>\n",
       "      <th>platform</th>\n",
       "    </tr>\n",
       "  </thead>\n",
       "  <tbody>\n",
       "    <tr>\n",
       "      <th>6701</th>\n",
       "      <td>BUSINESS</td>\n",
       "      <td>NaN</td>\n",
       "      <td>30</td>\n",
       "      <td>0.00</td>\n",
       "      <td>google</td>\n",
       "    </tr>\n",
       "    <tr>\n",
       "      <th>8272</th>\n",
       "      <td>GAME</td>\n",
       "      <td>4.3</td>\n",
       "      <td>264755</td>\n",
       "      <td>0.00</td>\n",
       "      <td>google</td>\n",
       "    </tr>\n",
       "    <tr>\n",
       "      <th>7932</th>\n",
       "      <td>TRAVEL_AND_LOCAL</td>\n",
       "      <td>3.6</td>\n",
       "      <td>892</td>\n",
       "      <td>2.49</td>\n",
       "      <td>google</td>\n",
       "    </tr>\n",
       "    <tr>\n",
       "      <th>5078</th>\n",
       "      <td>Games</td>\n",
       "      <td>4.0</td>\n",
       "      <td>239</td>\n",
       "      <td>0.00</td>\n",
       "      <td>apple</td>\n",
       "    </tr>\n",
       "    <tr>\n",
       "      <th>3424</th>\n",
       "      <td>PERSONALIZATION</td>\n",
       "      <td>4.6</td>\n",
       "      <td>6466641</td>\n",
       "      <td>0.00</td>\n",
       "      <td>google</td>\n",
       "    </tr>\n",
       "    <tr>\n",
       "      <th>2503</th>\n",
       "      <td>MEDICAL</td>\n",
       "      <td>NaN</td>\n",
       "      <td>44</td>\n",
       "      <td>0.00</td>\n",
       "      <td>google</td>\n",
       "    </tr>\n",
       "    <tr>\n",
       "      <th>2815</th>\n",
       "      <td>Utilities</td>\n",
       "      <td>3.5</td>\n",
       "      <td>222</td>\n",
       "      <td>1.99</td>\n",
       "      <td>apple</td>\n",
       "    </tr>\n",
       "    <tr>\n",
       "      <th>1126</th>\n",
       "      <td>Education</td>\n",
       "      <td>0.0</td>\n",
       "      <td>0</td>\n",
       "      <td>2.99</td>\n",
       "      <td>apple</td>\n",
       "    </tr>\n",
       "    <tr>\n",
       "      <th>1746</th>\n",
       "      <td>Education</td>\n",
       "      <td>5.0</td>\n",
       "      <td>10534</td>\n",
       "      <td>8.99</td>\n",
       "      <td>apple</td>\n",
       "    </tr>\n",
       "    <tr>\n",
       "      <th>6355</th>\n",
       "      <td>LIFESTYLE</td>\n",
       "      <td>4.0</td>\n",
       "      <td>41747</td>\n",
       "      <td>0.00</td>\n",
       "      <td>google</td>\n",
       "    </tr>\n",
       "    <tr>\n",
       "      <th>2397</th>\n",
       "      <td>Games</td>\n",
       "      <td>4.5</td>\n",
       "      <td>987</td>\n",
       "      <td>1.99</td>\n",
       "      <td>apple</td>\n",
       "    </tr>\n",
       "    <tr>\n",
       "      <th>317</th>\n",
       "      <td>Shopping</td>\n",
       "      <td>4.5</td>\n",
       "      <td>417779</td>\n",
       "      <td>0.00</td>\n",
       "      <td>apple</td>\n",
       "    </tr>\n",
       "  </tbody>\n",
       "</table>\n",
       "</div>"
      ],
      "text/plain": [
       "              Category  Rating  Reviews  Price platform\n",
       "6701          BUSINESS     NaN       30   0.00   google\n",
       "8272              GAME     4.3   264755   0.00   google\n",
       "7932  TRAVEL_AND_LOCAL     3.6      892   2.49   google\n",
       "5078             Games     4.0      239   0.00    apple\n",
       "3424   PERSONALIZATION     4.6  6466641   0.00   google\n",
       "2503           MEDICAL     NaN       44   0.00   google\n",
       "2815         Utilities     3.5      222   1.99    apple\n",
       "1126         Education     0.0        0   2.99    apple\n",
       "1746         Education     5.0    10534   8.99    apple\n",
       "6355         LIFESTYLE     4.0    41747   0.00   google\n",
       "2397             Games     4.5      987   1.99    apple\n",
       "317           Shopping     4.5   417779   0.00    apple"
      ]
     },
     "execution_count": 17,
     "metadata": {},
     "output_type": "execute_result"
    }
   ],
   "source": [
    "# Let's use the append() method to append Apple to Google. \n",
    "df = Google.append(Apple)\n",
    "\n",
    "# Using the sample() method with the number 12 passed to it, check 12 random points of your dataset.\n",
    "df.sample(12)"
   ]
  },
  {
   "cell_type": "markdown",
   "metadata": {
    "colab_type": "text",
    "id": "FjqsHugWFcvb"
   },
   "source": [
    "### 2e. Eliminate the NaN values\n",
    "\n",
    "As you can see there are some `NaN` values. We want to eliminate all these `NaN` values from the table."
   ]
  },
  {
   "cell_type": "code",
   "execution_count": 18,
   "metadata": {
    "colab": {},
    "colab_type": "code",
    "id": "Gp2q6GLyFcvb"
   },
   "outputs": [
    {
     "data": {
      "text/plain": [
       "(16563, 5)"
      ]
     },
     "execution_count": 18,
     "metadata": {},
     "output_type": "execute_result"
    }
   ],
   "source": [
    "# Lets check first the dimesions of df before droping `NaN` values. Use the .shape feature. \n",
    "df.shape\n",
    "\n",
    "# Use the dropna() method to eliminate all the NaN values, and overwrite the same dataframe with the result. \n",
    "df = df.dropna()\n",
    "# Check the new dimesions of our dataframe. \n",
    "df.shape"
   ]
  },
  {
   "cell_type": "markdown",
   "metadata": {
    "colab_type": "text",
    "id": "qtfeQKtAFcvd"
   },
   "source": [
    "### 2f. Filter the data so that we only see whose apps that have been reviewed at least once\n",
    "\n",
    "Apps that haven't been reviewed yet can't help us solve our brief. \n",
    "\n",
    "So let's check to see if any apps have no reviews at all. "
   ]
  },
  {
   "cell_type": "code",
   "execution_count": 19,
   "metadata": {
    "colab": {},
    "colab_type": "code",
    "id": "Ge9OKXLNFcvd"
   },
   "outputs": [
    {
     "data": {
      "text/plain": [
       "Category    929\n",
       "Rating      929\n",
       "Reviews     929\n",
       "Price       929\n",
       "platform    929\n",
       "dtype: int64"
      ]
     },
     "execution_count": 19,
     "metadata": {},
     "output_type": "execute_result"
    }
   ],
   "source": [
    "# Subset your df to pick out just those rows whose value for 'Reviews' is equal to 0. \n",
    "# Do a count() on the result. \n",
    "reviews_0 = df[df['Reviews'] == 0]\n",
    "reviews_0.count()"
   ]
  },
  {
   "cell_type": "markdown",
   "metadata": {
    "colab_type": "text",
    "id": "05f7H0kAFcvg"
   },
   "source": [
    "929 apps do not have reviews, we need to eliminate these points!"
   ]
  },
  {
   "cell_type": "code",
   "execution_count": 20,
   "metadata": {
    "colab": {},
    "colab_type": "code",
    "id": "pD8vmPjkFcvg"
   },
   "outputs": [
    {
     "data": {
      "text/html": [
       "<div>\n",
       "<style scoped>\n",
       "    .dataframe tbody tr th:only-of-type {\n",
       "        vertical-align: middle;\n",
       "    }\n",
       "\n",
       "    .dataframe tbody tr th {\n",
       "        vertical-align: top;\n",
       "    }\n",
       "\n",
       "    .dataframe thead th {\n",
       "        text-align: right;\n",
       "    }\n",
       "</style>\n",
       "<table border=\"1\" class=\"dataframe\">\n",
       "  <thead>\n",
       "    <tr style=\"text-align: right;\">\n",
       "      <th></th>\n",
       "      <th>Category</th>\n",
       "      <th>Rating</th>\n",
       "      <th>Reviews</th>\n",
       "      <th>Price</th>\n",
       "      <th>platform</th>\n",
       "    </tr>\n",
       "  </thead>\n",
       "  <tbody>\n",
       "    <tr>\n",
       "      <th>0</th>\n",
       "      <td>ART_AND_DESIGN</td>\n",
       "      <td>4.1</td>\n",
       "      <td>159</td>\n",
       "      <td>0.0</td>\n",
       "      <td>google</td>\n",
       "    </tr>\n",
       "    <tr>\n",
       "      <th>1</th>\n",
       "      <td>ART_AND_DESIGN</td>\n",
       "      <td>3.9</td>\n",
       "      <td>967</td>\n",
       "      <td>0.0</td>\n",
       "      <td>google</td>\n",
       "    </tr>\n",
       "    <tr>\n",
       "      <th>2</th>\n",
       "      <td>ART_AND_DESIGN</td>\n",
       "      <td>4.7</td>\n",
       "      <td>87510</td>\n",
       "      <td>0.0</td>\n",
       "      <td>google</td>\n",
       "    </tr>\n",
       "    <tr>\n",
       "      <th>3</th>\n",
       "      <td>ART_AND_DESIGN</td>\n",
       "      <td>4.5</td>\n",
       "      <td>215644</td>\n",
       "      <td>0.0</td>\n",
       "      <td>google</td>\n",
       "    </tr>\n",
       "    <tr>\n",
       "      <th>4</th>\n",
       "      <td>ART_AND_DESIGN</td>\n",
       "      <td>4.3</td>\n",
       "      <td>967</td>\n",
       "      <td>0.0</td>\n",
       "      <td>google</td>\n",
       "    </tr>\n",
       "  </tbody>\n",
       "</table>\n",
       "</div>"
      ],
      "text/plain": [
       "         Category  Rating  Reviews  Price platform\n",
       "0  ART_AND_DESIGN     4.1      159    0.0   google\n",
       "1  ART_AND_DESIGN     3.9      967    0.0   google\n",
       "2  ART_AND_DESIGN     4.7    87510    0.0   google\n",
       "3  ART_AND_DESIGN     4.5   215644    0.0   google\n",
       "4  ART_AND_DESIGN     4.3      967    0.0   google"
      ]
     },
     "execution_count": 20,
     "metadata": {},
     "output_type": "execute_result"
    }
   ],
   "source": [
    "# Eliminate the points that have 0 reviews.\n",
    "df = df[df['Reviews'] > 0]\n",
    "df.head()"
   ]
  },
  {
   "cell_type": "markdown",
   "metadata": {
    "colab_type": "text",
    "id": "ApnKES_bFcvi"
   },
   "source": [
    "### 2g. Summarize the data visually and analytically (by the column `platform`)"
   ]
  },
  {
   "cell_type": "markdown",
   "metadata": {
    "colab_type": "text",
    "id": "2smt9UocFcvj"
   },
   "source": [
    "What we need to solve our brief is a summary of the `Rating` column, but separated by the different platforms."
   ]
  },
  {
   "cell_type": "code",
   "execution_count": 21,
   "metadata": {
    "colab": {},
    "colab_type": "code",
    "id": "Vqckt347Fcvj"
   },
   "outputs": [
    {
     "data": {
      "text/html": [
       "<div>\n",
       "<style scoped>\n",
       "    .dataframe tbody tr th:only-of-type {\n",
       "        vertical-align: middle;\n",
       "    }\n",
       "\n",
       "    .dataframe tbody tr th {\n",
       "        vertical-align: top;\n",
       "    }\n",
       "\n",
       "    .dataframe thead th {\n",
       "        text-align: right;\n",
       "    }\n",
       "</style>\n",
       "<table border=\"1\" class=\"dataframe\">\n",
       "  <thead>\n",
       "    <tr style=\"text-align: right;\">\n",
       "      <th></th>\n",
       "      <th>Rating</th>\n",
       "      <th>Reviews</th>\n",
       "      <th>Price</th>\n",
       "    </tr>\n",
       "    <tr>\n",
       "      <th>platform</th>\n",
       "      <th></th>\n",
       "      <th></th>\n",
       "      <th></th>\n",
       "    </tr>\n",
       "  </thead>\n",
       "  <tbody>\n",
       "    <tr>\n",
       "      <th>apple</th>\n",
       "      <td>4.049697</td>\n",
       "      <td>14803.805520</td>\n",
       "      <td>1.821977</td>\n",
       "    </tr>\n",
       "    <tr>\n",
       "      <th>google</th>\n",
       "      <td>4.191757</td>\n",
       "      <td>514049.836536</td>\n",
       "      <td>0.960928</td>\n",
       "    </tr>\n",
       "  </tbody>\n",
       "</table>\n",
       "</div>"
      ],
      "text/plain": [
       "            Rating        Reviews     Price\n",
       "platform                                   \n",
       "apple     4.049697   14803.805520  1.821977\n",
       "google    4.191757  514049.836536  0.960928"
      ]
     },
     "execution_count": 21,
     "metadata": {},
     "output_type": "execute_result"
    }
   ],
   "source": [
    "# To summarize analytically, let's use the groupby() method on our df.\n",
    "group_df = df.groupby(by='platform').mean()\n",
    "group_df.head()"
   ]
  },
  {
   "cell_type": "markdown",
   "metadata": {
    "colab_type": "text",
    "id": "8f9TqMtKFcvl"
   },
   "source": [
    "Interesting! Our means of 4.049697 and 4.191757 don't **seem** all that different! Perhaps we've solved our brief already: there's no significant difference between Google Play app reviews and Apple Store app reviews. We have an ***observed difference*** here: which is simply (4.191757 - 4.049697) = 0.14206. This is just the actual difference that we observed between the mean rating for apps from Google Play, and the mean rating for apps from the Apple Store. Let's look at how we're going to use this observed difference to solve our problem using a statistical test. \n",
    "\n",
    "**Outline of our method:**\n",
    "1. We'll assume that platform (i.e, whether the app was Google or Apple) really doesn’t impact on ratings. \n",
    "\n",
    "\n",
    "2. Given this assumption, we should actually be able to get a difference in mean rating for Apple apps and mean rating for Google apps that's pretty similar to the one we actually got (0.14206) just by: \n",
    "a. shuffling the ratings column, \n",
    "b. keeping the platform column the same,\n",
    "c. calculating the difference between the mean rating for Apple and the mean rating for Google. \n",
    "\n",
    "\n",
    "3. We can make the shuffle more useful by doing it many times, each time calculating the mean rating for Apple apps and the mean rating for Google apps, and the difference between these means. \n",
    "\n",
    "\n",
    "4. We can then take the mean of all these differences, and this will be called our permutation difference. This permutation difference will be great indicator of what the difference would be if our initial assumption were true and platform really doesn’t impact on ratings. \n",
    "\n",
    "\n",
    "5. Now we do a comparison. If the observed difference looks just like the permutation difference, then we stick with the claim that actually, platform doesn’t impact on ratings. If instead, however, the permutation difference differs significantly from the observed difference, we'll conclude: something's going on; the platform does in fact impact on ratings. \n",
    "\n",
    "\n",
    "6. As for what the definition of *significantly* is, we'll get to that. But there’s a brief summary of what we're going to do. Exciting!\n",
    "\n",
    "If you want to look more deeply at the statistics behind this project, check out [this resource](https://www.springboard.com/archeio/download/4ea4d453b0b84014bcef287c50f47f00/)."
   ]
  },
  {
   "cell_type": "markdown",
   "metadata": {
    "colab_type": "text",
    "id": "d6EhTxArFcvm"
   },
   "source": [
    "Let's also get a **visual summary** of the `Rating` column, separated by the different platforms. \n",
    "\n",
    "A good tool to use here is the boxplot!"
   ]
  },
  {
   "cell_type": "code",
   "execution_count": 22,
   "metadata": {
    "colab": {},
    "colab_type": "code",
    "id": "hFKjrlWgFcvm"
   },
   "outputs": [
    {
     "data": {
      "image/png": "[encoded data removed]",
      "text/plain": [
       "<Figure size 432x288 with 1 Axes>"
      ]
     },
     "metadata": {
      "needs_background": "light"
     },
     "output_type": "display_data"
    }
   ],
   "source": [
    "# Call the boxplot() method on our df.\n",
    "plt.boxplot(df['Rating'])\n",
    "plt.xlabel('Rating')\n",
    "plt.show()"
   ]
  },
  {
   "cell_type": "markdown",
   "metadata": {
    "colab_type": "text",
    "id": "FqTlAjnmFcvo"
   },
   "source": [
    "Here we see the same information as in the analytical summary, but with a boxplot. Can you see how the boxplot is working here? If you need to revise your boxplots, check out this this [link](https://www.kaggle.com/ramamet4/app-store-apple-data-set-10k-apps). "
   ]
  },
  {
   "cell_type": "markdown",
   "metadata": {
    "colab_type": "text",
    "id": "O8L-s1fgFcvp"
   },
   "source": [
    "## Stage 3 - Modelling"
   ]
  },
  {
   "cell_type": "markdown",
   "metadata": {
    "colab_type": "text",
    "id": "5fbRq2MZFcvq"
   },
   "source": [
    "### 3a. Hypothesis formulation\n",
    "\n",
    "Our **Null hypothesis** is just:\n",
    "\n",
    "**H<sub>null</sub>**: the observed difference in the mean rating of Apple Store and Google Play apps is due to chance (and thus not due to the platform).\n",
    "\n",
    "The more interesting hypothesis is called the **Alternate hypothesis**:\n",
    "\n",
    "**H<sub>alternative</sub>**: the observed difference in the average ratings of apple and google users is not due to chance (and is actually due to platform)\n",
    "\n",
    "We're also going to pick a **significance level** of 0.05. "
   ]
  },
  {
   "cell_type": "markdown",
   "metadata": {
    "colab_type": "text",
    "id": "TjBqkabaFcvq"
   },
   "source": [
    "### 3b. Getting the distribution of the data\n",
    "Now that the hypotheses and significance level are defined, we can select a statistical test to determine which hypothesis to accept. \n",
    "\n",
    "There are many different statistical tests, all with different assumptions. You'll generate an excellent judgement about when to use which statistical tests over the Data Science Career Track course. But in general, one of the most important things to determine is the **distribution of the data**.   "
   ]
  },
  {
   "cell_type": "code",
   "execution_count": 23,
   "metadata": {
    "colab": {},
    "colab_type": "code",
    "id": "bFwVhkeWFcvr"
   },
   "outputs": [],
   "source": [
    "# Create a subset of the column 'Rating' by the different platforms.\n",
    "# Call the subsets 'apple' and 'google' \n",
    "apple = df[df['platform'] == 'apple']\n",
    "apple = apple['Rating']\n",
    "\n",
    "google = df[df['platform'] == 'google']\n",
    "google = google['Rating']\n",
    "\n"
   ]
  },
  {
   "cell_type": "code",
   "execution_count": 24,
   "metadata": {
    "colab": {},
    "colab_type": "code",
    "id": "oPPFpwPvFcvu"
   },
   "outputs": [
    {
     "data": {
      "text/plain": [
       "NormaltestResult(statistic=1778.9974234584017, pvalue=0.0)"
      ]
     },
     "execution_count": 24,
     "metadata": {},
     "output_type": "execute_result"
    }
   ],
   "source": [
    "# Using the stats.normaltest() method, get an indication of whether the apple data are normally distributed\n",
    "# Save the result in a variable called apple_normal, and print it out\n",
    "apple_normal = stats.normaltest(apple)\n",
    "apple_normal"
   ]
  },
  {
   "cell_type": "code",
   "execution_count": 25,
   "metadata": {
    "colab": {},
    "colab_type": "code",
    "id": "rCdh8a8KFcvw"
   },
   "outputs": [
    {
     "data": {
      "text/plain": [
       "NormaltestResult(statistic=3678.6157187516856, pvalue=0.0)"
      ]
     },
     "execution_count": 25,
     "metadata": {},
     "output_type": "execute_result"
    }
   ],
   "source": [
    "# Do the same with the google data. \n",
    "google_normal = stats.normaltest(google)\n",
    "google_normal"
   ]
  },
  {
   "cell_type": "markdown",
   "metadata": {
    "colab_type": "text",
    "id": "9gDqu21yFcv0"
   },
   "source": [
    "Since the null hypothesis of the normaltest() is that the data are normally distributed, the lower the p-value in the result of this test, the more likely the data are to be non-normal. \n",
    "\n",
    "Since the p-values is 0 for both tests, regardless of what we pick for the significance level, our conclusion is that the data are not normally distributed. \n",
    "\n",
    "We can actually also check out the distribution of the data visually with a histogram. A normal distribution has the following visual characteristics:\n",
    "    - symmetric\n",
    "    - unimodal (one hump)\n",
    "As well as a roughly identical mean, median and mode. "
   ]
  },
  {
   "cell_type": "code",
   "execution_count": 26,
   "metadata": {
    "colab": {},
    "colab_type": "code",
    "id": "P9tT9RjNFcv1"
   },
   "outputs": [
    {
     "data": {
      "image/png": "[encoded data removed]",
      "text/plain": [
       "<Figure size 432x288 with 1 Axes>"
      ]
     },
     "metadata": {
      "needs_background": "light"
     },
     "output_type": "display_data"
    }
   ],
   "source": [
    "# Create a histogram of the apple reviews distribution\n",
    "plt.hist(apple)\n",
    "plt.xlabel('Rating')\n",
    "plt.ylabel('# of reviews')\n",
    "plt.show()"
   ]
  },
  {
   "cell_type": "code",
   "execution_count": 27,
   "metadata": {
    "colab": {},
    "colab_type": "code",
    "id": "8dE1uC5iFcv2"
   },
   "outputs": [
    {
     "data": {
      "image/png": "[encoded data removed]",
      "text/plain": [
       "<Figure size 432x288 with 1 Axes>"
      ]
     },
     "metadata": {
      "needs_background": "light"
     },
     "output_type": "display_data"
    }
   ],
   "source": [
    "# Create a histogram of the google data\n",
    "plt.hist(google)\n",
    "plt.xlabel('Rating')\n",
    "plt.ylabel('# of reviews')\n",
    "plt.show()"
   ]
  },
  {
   "cell_type": "markdown",
   "metadata": {
    "colab_type": "text",
    "id": "QhZV89FzFcv5"
   },
   "source": [
    "### 3c. Permutation test\n",
    "Since the data aren't normally distributed, we're using a *non-parametric* test here. This is simply a label for statistical tests used when the data aren't normally distributed. These tests are extraordinarily powerful due to how few assumptions we need to make.  \n",
    "\n",
    "Check out more about permutations [here.](http://rasbt.github.io/mlxtend/user_guide/evaluate/permutation_test/)"
   ]
  },
  {
   "cell_type": "code",
   "execution_count": 47,
   "metadata": {
    "colab": {},
    "colab_type": "code",
    "id": "bxNhQgpqFcv6"
   },
   "outputs": [
    {
     "data": {
      "text/html": [
       "<div>\n",
       "<style scoped>\n",
       "    .dataframe tbody tr th:only-of-type {\n",
       "        vertical-align: middle;\n",
       "    }\n",
       "\n",
       "    .dataframe tbody tr th {\n",
       "        vertical-align: top;\n",
       "    }\n",
       "\n",
       "    .dataframe thead th {\n",
       "        text-align: right;\n",
       "    }\n",
       "</style>\n",
       "<table border=\"1\" class=\"dataframe\">\n",
       "  <thead>\n",
       "    <tr style=\"text-align: right;\">\n",
       "      <th></th>\n",
       "      <th>count</th>\n",
       "      <th>mean</th>\n",
       "      <th>std</th>\n",
       "      <th>min</th>\n",
       "      <th>25%</th>\n",
       "      <th>50%</th>\n",
       "      <th>75%</th>\n",
       "      <th>max</th>\n",
       "    </tr>\n",
       "    <tr>\n",
       "      <th>platform</th>\n",
       "      <th></th>\n",
       "      <th></th>\n",
       "      <th></th>\n",
       "      <th></th>\n",
       "      <th></th>\n",
       "      <th></th>\n",
       "      <th></th>\n",
       "      <th></th>\n",
       "    </tr>\n",
       "  </thead>\n",
       "  <tbody>\n",
       "    <tr>\n",
       "      <th>apple</th>\n",
       "      <td>6268.0</td>\n",
       "      <td>4.136152</td>\n",
       "      <td>0.609659</td>\n",
       "      <td>1.0</td>\n",
       "      <td>4.0</td>\n",
       "      <td>4.3</td>\n",
       "      <td>4.5</td>\n",
       "      <td>5.0</td>\n",
       "    </tr>\n",
       "    <tr>\n",
       "      <th>google</th>\n",
       "      <td>9366.0</td>\n",
       "      <td>4.133899</td>\n",
       "      <td>0.615178</td>\n",
       "      <td>1.0</td>\n",
       "      <td>4.0</td>\n",
       "      <td>4.3</td>\n",
       "      <td>4.5</td>\n",
       "      <td>5.0</td>\n",
       "    </tr>\n",
       "  </tbody>\n",
       "</table>\n",
       "</div>"
      ],
      "text/plain": [
       "           count      mean       std  min  25%  50%  75%  max\n",
       "platform                                                     \n",
       "apple     6268.0  4.136152  0.609659  1.0  4.0  4.3  4.5  5.0\n",
       "google    9366.0  4.133899  0.615178  1.0  4.0  4.3  4.5  5.0"
      ]
     },
     "execution_count": 47,
     "metadata": {},
     "output_type": "execute_result"
    }
   ],
   "source": [
    "# Create a column called `Permutation1`, and assign to it the result of permuting (shuffling) the Rating column\n",
    "# This assignment will use our numpy object's random.permutation() method\n",
    "df['Permutation1'] = np.random.permutation(df['Rating'])\n",
    "\n",
    "# Call the describe() method on our permutation grouped by 'platform'. \n",
    "df.groupby(by='platform')['Permutation1'].describe()\n"
   ]
  },
  {
   "cell_type": "code",
   "execution_count": 30,
   "metadata": {
    "colab": {},
    "colab_type": "code",
    "id": "AaGNfPGTFcv7"
   },
   "outputs": [
    {
     "data": {
      "text/html": [
       "<div>\n",
       "<style scoped>\n",
       "    .dataframe tbody tr th:only-of-type {\n",
       "        vertical-align: middle;\n",
       "    }\n",
       "\n",
       "    .dataframe tbody tr th {\n",
       "        vertical-align: top;\n",
       "    }\n",
       "\n",
       "    .dataframe thead th {\n",
       "        text-align: right;\n",
       "    }\n",
       "</style>\n",
       "<table border=\"1\" class=\"dataframe\">\n",
       "  <thead>\n",
       "    <tr style=\"text-align: right;\">\n",
       "      <th></th>\n",
       "      <th>count</th>\n",
       "      <th>mean</th>\n",
       "      <th>std</th>\n",
       "      <th>min</th>\n",
       "      <th>25%</th>\n",
       "      <th>50%</th>\n",
       "      <th>75%</th>\n",
       "      <th>max</th>\n",
       "    </tr>\n",
       "    <tr>\n",
       "      <th>platform</th>\n",
       "      <th></th>\n",
       "      <th></th>\n",
       "      <th></th>\n",
       "      <th></th>\n",
       "      <th></th>\n",
       "      <th></th>\n",
       "      <th></th>\n",
       "      <th></th>\n",
       "    </tr>\n",
       "  </thead>\n",
       "  <tbody>\n",
       "    <tr>\n",
       "      <th>apple</th>\n",
       "      <td>6268.0</td>\n",
       "      <td>4.049697</td>\n",
       "      <td>0.726943</td>\n",
       "      <td>1.0</td>\n",
       "      <td>4.0</td>\n",
       "      <td>4.5</td>\n",
       "      <td>4.5</td>\n",
       "      <td>5.0</td>\n",
       "    </tr>\n",
       "    <tr>\n",
       "      <th>google</th>\n",
       "      <td>9366.0</td>\n",
       "      <td>4.191757</td>\n",
       "      <td>0.515219</td>\n",
       "      <td>1.0</td>\n",
       "      <td>4.0</td>\n",
       "      <td>4.3</td>\n",
       "      <td>4.5</td>\n",
       "      <td>5.0</td>\n",
       "    </tr>\n",
       "  </tbody>\n",
       "</table>\n",
       "</div>"
      ],
      "text/plain": [
       "           count      mean       std  min  25%  50%  75%  max\n",
       "platform                                                     \n",
       "apple     6268.0  4.049697  0.726943  1.0  4.0  4.5  4.5  5.0\n",
       "google    9366.0  4.191757  0.515219  1.0  4.0  4.3  4.5  5.0"
      ]
     },
     "execution_count": 30,
     "metadata": {},
     "output_type": "execute_result"
    }
   ],
   "source": [
    "# Lets compare with the previous analytical summary:\n",
    "df.groupby(by='platform')['Rating'].describe()"
   ]
  },
  {
   "cell_type": "code",
   "execution_count": 53,
   "metadata": {
    "colab": {},
    "colab_type": "code",
    "id": "aJPNpX0JFcv-"
   },
   "outputs": [
    {
     "data": {
      "text/plain": [
       "[0.012638750515963082,\n",
       " -0.009198643929399175,\n",
       " 0.016660026810171757,\n",
       " -0.0035528785362108906,\n",
       " -0.00216806815674353,\n",
       " -0.003978974037583072,\n",
       " -0.017134672642463933,\n",
       " 0.003317911423426523,\n",
       " -0.00970463233726715,\n",
       " -0.00041042421360426573,\n",
       " 0.009576189099839816,\n",
       " -0.006642070921157206,\n",
       " -0.0013425081228355396,\n",
       " -0.0009164126214642465,\n",
       " -0.015084088042117472,\n",
       " -0.007813833549915827,\n",
       " 0.0032646494857573316,\n",
       " 0.006194056057687192,\n",
       " -0.003739295318053948,\n",
       " -0.011701954999967512,\n",
       " 0.009043569723131917,\n",
       " -0.0005435790577523747,\n",
       " -0.001502293935852883,\n",
       " 0.015834466776277978,\n",
       " 0.021347077325267527,\n",
       " -0.009518215555437415,\n",
       " -0.007600785799237286,\n",
       " -0.003100152066000561,\n",
       " 0.008138116782713034,\n",
       " -0.006801856734177214,\n",
       " 0.0062206870265226755,\n",
       " -0.007574154830416013,\n",
       " -0.008080143238301751,\n",
       " -0.0036594024115510493,\n",
       " 0.01285179826666294,\n",
       " 0.007978330969708125,\n",
       " 0.004516305021022404,\n",
       " 0.013064846017336151,\n",
       " -0.0024343778451019205,\n",
       " 0.00773865225015502,\n",
       " -0.006615439952337709,\n",
       " -0.0031001520659978965,\n",
       " -0.006668701889985584,\n",
       " -0.009917680087974112,\n",
       " -0.011062811747900803,\n",
       " -0.016202588733235324,\n",
       " 0.006886461247412434,\n",
       " 0.015594788056715103,\n",
       " 0.00017545710080746346,\n",
       " -0.007574154830399138,\n",
       " 0.0039037927378258175,\n",
       " -0.004511593414307846,\n",
       " 0.005634805712134039,\n",
       " -0.00011748355637219987,\n",
       " 0.0033445423922726647,\n",
       " 0.011972976295048454,\n",
       " 0.018124730096142905,\n",
       " -0.014711254478392277,\n",
       " 0.00840442647106876,\n",
       " -0.0007832577772841631,\n",
       " 0.014849120929321558,\n",
       " 0.0022526726700009547,\n",
       " 0.007365818686474235,\n",
       " -0.004085497912929448,\n",
       " 0.0012939577919155454,\n",
       " 0.003850530800136198,\n",
       " -0.0012359842475131444,\n",
       " -0.006269237357465762,\n",
       " 0.013277893768028903,\n",
       " -0.004085497912933889,\n",
       " 0.02203948251498211,\n",
       " -0.003552878536218884,\n",
       " -0.007840464518783286,\n",
       " -0.007467630955066973,\n",
       " -0.011275859498574903,\n",
       " 0.00603427024466896,\n",
       " 0.011706666606708716,\n",
       " -0.000650102933135166,\n",
       " -0.01758739911268936,\n",
       " 0.005475019899115807,\n",
       " 0.0035842211117911305,\n",
       " -0.005443677323552443,\n",
       " 0.0006814455086816551,\n",
       " 0.0005482906645237762,\n",
       " -0.0057366179807392115,\n",
       " -0.017827077832203386,\n",
       " -0.020676591497650776,\n",
       " -0.004511593414295412,\n",
       " -0.00254090172045629,\n",
       " -0.0012359842474776173,\n",
       " -0.021235841843185277,\n",
       " 0.0006548145398435068,\n",
       " -0.0008897816526491908,\n",
       " 0.009389772317993206,\n",
       " -0.0027805804399694267,\n",
       " -0.002993628190628428,\n",
       " -0.0011294603721516694,\n",
       " 0.009203355536171465,\n",
       " -0.008106774207129241,\n",
       " -0.022221187690105282,\n",
       " -0.011409014342764756,\n",
       " -0.005949665731420417,\n",
       " -0.0006767339019404517,\n",
       " 0.010934368510467252,\n",
       " 0.017006229405043705,\n",
       " -0.003020259159495886,\n",
       " -0.013033503441733707,\n",
       " -0.012154681470181394,\n",
       " -0.015616707418833364,\n",
       " 0.007685390312506257,\n",
       " 0.0037706378936466223,\n",
       " -0.004085497912929448,\n",
       " 0.01074795172861176,\n",
       " 0.014875751898179246,\n",
       " 0.007791914187847304,\n",
       " -0.014205266070558054,\n",
       " -0.00033053130708804446,\n",
       " -0.004378438570112664,\n",
       " -0.019824400494870886,\n",
       " -0.011116073685582428,\n",
       " -0.008106774207107925,\n",
       " 0.0022260417011583655,\n",
       " -0.014444944790025893,\n",
       " 0.001560267480274824,\n",
       " -0.01380580153799471,\n",
       " -0.003978974037578631,\n",
       " -0.011755216937634039,\n",
       " -0.00797361936294827,\n",
       " -0.010237251713998141,\n",
       " 0.005022293428908142,\n",
       " 0.004622828896393649,\n",
       " 0.003983685644329604,\n",
       " -0.006002927669102043,\n",
       " 0.0007879693840262547,\n",
       " 0.008031592907362217,\n",
       " 0.01522195449303787,\n",
       " -0.0016887107177181448,\n",
       " -0.0008631506838048253,\n",
       " 0.007072878029286578,\n",
       " 0.012292547921108898,\n",
       " -0.00563009410540527,\n",
       " -0.01007746590097991,\n",
       " 0.006194056057672981,\n",
       " -0.0031001520659978965,\n",
       " 0.012452333734105814,\n",
       " -0.008186667113640134,\n",
       " -0.007414369017401334,\n",
       " -0.003526247567382512,\n",
       " 0.0025988752648453683,\n",
       " 0.007419080624157637,\n",
       " 0.005155448273105101,\n",
       " 0.012585488578292114,\n",
       " 0.014982275773509635,\n",
       " 0.0008678622905238242,\n",
       " -0.0019017584683940214,\n",
       " -0.0012093532786465744,\n",
       " -0.00991768008796523,\n",
       " 0.008404426471071424,\n",
       " -0.01180847887527392,\n",
       " -0.0005968409954313358,\n",
       " 0.0016934223244486901,\n",
       " -0.010929656903742924,\n",
       " -0.009864418150291598,\n",
       " 0.002811923015561213,\n",
       " 0.008537581315246179,\n",
       " 0.007552235468321733,\n",
       " 0.008004961938536503,\n",
       " 0.0036907449871286246,\n",
       " -0.009518215555422316,\n",
       " 0.006194056057700514,\n",
       " -0.008346452926646819,\n",
       " 0.014449656396788413,\n",
       " 0.003530959174130821,\n",
       " 0.0026255062336915103,\n",
       " -0.011755216937620716,\n",
       " 0.004782614709400335,\n",
       " -0.00347298562968934,\n",
       " -0.009198643929408057,\n",
       " 0.014582811240970273,\n",
       " 9.556419430634122e-05,\n",
       " 0.012798536328972432,\n",
       " 0.008351164533391575,\n",
       " 0.0010010171347181185,\n",
       " -0.00632249929512696,\n",
       " -0.007227952235528079,\n",
       " -0.004831165040327434,\n",
       " 0.002092886856993381,\n",
       " -0.011861740812978638,\n",
       " 0.004249995332699541,\n",
       " -0.00381918822458438,\n",
       " 0.0025456133271717363,\n",
       " 0.0012673268230578572,\n",
       " -0.0017952345930423164,\n",
       " -0.002993628190669284,\n",
       " -0.0033664617543580633,\n",
       " -0.0011028294033090802,\n",
       " -0.005203998604028648,\n",
       " 0.009869129757026585,\n",
       " 0.0010809100412219053,\n",
       " 0.012745274391305905,\n",
       " -0.00014411452520857182,\n",
       " 0.0009477551970382692,\n",
       " 0.017245908124551512,\n",
       " 0.001959732012804416,\n",
       " 0.007925069032053145,\n",
       " 0.005608174743308325,\n",
       " 0.007152770935778818,\n",
       " 0.018417670753334114,\n",
       " -0.012713931815723889,\n",
       " 0.002678768171383794,\n",
       " 0.006140794120025994,\n",
       " -0.01588301710718998,\n",
       " -0.011888371781802576,\n",
       " 0.011174047230003481,\n",
       " -0.008719286490340927,\n",
       " -0.005656725074236313,\n",
       " 0.0019597320128061924,\n",
       " 0.00952292716217329,\n",
       " 0.005208710210786727,\n",
       " -0.005683356043075349,\n",
       " 0.002758661077872482,\n",
       " -0.01756076814384855,\n",
       " 0.01037511816493275,\n",
       " -0.011994895657155169,\n",
       " -0.008612762615008762,\n",
       " 0.0015868984491076432,\n",
       " -0.008293190988977628,\n",
       " -0.004857796009146043,\n",
       " 0.0072859257799580135,\n",
       " 0.014130084770743068,\n",
       " 0.015355109337225947,\n",
       " -0.004538224383139777,\n",
       " 0.005155448273091778,\n",
       " -0.016602053265769356,\n",
       " -0.010157358807489913,\n",
       " 0.010428380102582402,\n",
       " -0.0028604733464732135,\n",
       " 0.0021195178258031078,\n",
       " -0.004138759850605744,\n",
       " 0.007472342561811729,\n",
       " -0.004431700507788072,\n",
       " -0.007014904484853091,\n",
       " -0.009278536835910067,\n",
       " -0.018572744959601373,\n",
       " 0.01077458269746323,\n",
       " -0.00951821555544008,\n",
       " 0.011813190482058644,\n",
       " 0.009895760725874503,\n",
       " -0.01167532403114091,\n",
       " 0.025368353619461104,\n",
       " -0.007148059329046497,\n",
       " -0.02405872453976965,\n",
       " 0.00677993737207494,\n",
       " -0.00046368615126013424,\n",
       " 0.01570131193209523,\n",
       " -0.0023012230009387125,\n",
       " 0.010774582697464119,\n",
       " 0.006433734777217204,\n",
       " -0.010556823340026611,\n",
       " -0.011808478875295236,\n",
       " -0.01990429340137556,\n",
       " -0.007227952235569823,\n",
       " 0.003983685644302959,\n",
       " 0.004276626301529696,\n",
       " 0.0004683977580040022,\n",
       " 0.002332565576517176,\n",
       " 0.006566889621392846,\n",
       " -0.0037126643492113587,\n",
       " -0.010956287872550874,\n",
       " -0.011382383373907068,\n",
       " -0.0006501029331147379,\n",
       " -0.00027726936936645075,\n",
       " -0.007068166422537381,\n",
       " -0.0022479610632464286,\n",
       " 0.0015602674802579486,\n",
       " 0.01394366798890978,\n",
       " -0.0033398307855279086,\n",
       " -0.011142704654416136,\n",
       " -0.002487639782772,\n",
       " -0.0018484965307230539,\n",
       " 0.014982275773521181,\n",
       " 0.005874484431680926,\n",
       " 0.00933651038032135,\n",
       " -0.0018484965307248302,\n",
       " -0.0057366179807196716,\n",
       " 0.007019616091607617,\n",
       " -0.003765926286901866,\n",
       " -0.014657992540752396,\n",
       " 0.009602820068683293,\n",
       " -0.0020082823437199693,\n",
       " -0.000650102933100527,\n",
       " 0.006779937372074052,\n",
       " -0.011009549810235164,\n",
       " 0.011706666606698946,\n",
       " -0.0026474255957964488,\n",
       " -0.0008631506837604164,\n",
       " -0.006215975419796571,\n",
       " -0.0012093532786803252,\n",
       " -0.0011294603721463403,\n",
       " -0.002008282343733292,\n",
       " -0.0037392953180725996,\n",
       " 0.000894493259374407,\n",
       " -0.00041042421360337755,\n",
       " 0.013411048612199217,\n",
       " 0.004063578550825397,\n",
       " -0.00038379324473680754,\n",
       " 0.0006548145398621585,\n",
       " 0.008457688408745057,\n",
       " 0.0059810083070130915,\n",
       " 0.012079500170423252,\n",
       " -0.0005169480889177791,\n",
       " 0.012798536328975985,\n",
       " -0.005124105697532855,\n",
       " 0.010481642040274686,\n",
       " 0.011839821450876364,\n",
       " 0.0030516017350636915,\n",
       " -0.003446354660867179,\n",
       " 0.0038505308001424154,\n",
       " -0.018705899803777015,\n",
       " 0.009629451037503678,\n",
       " 0.012292547921094688,\n",
       " 0.01522195449303787,\n",
       " 0.008031592907362217,\n",
       " 0.010854475603973235,\n",
       " -0.011275859498590002,\n",
       " 0.01426323961493825,\n",
       " 0.003131494641571031,\n",
       " 0.0010809100412139117,\n",
       " -0.0024077468762842003,\n",
       " -0.0014224010293455436,\n",
       " -9.085258755270331e-05,\n",
       " 0.007578866437150111,\n",
       " 0.011440356918331673,\n",
       " -0.007893726456433825,\n",
       " -0.017321089424325642,\n",
       " -0.002327853969759097,\n",
       " 0.008377795502243046,\n",
       " -0.008799179396831391,\n",
       " -0.0005702100265976284,\n",
       " 0.022359054141027457,\n",
       " 0.011333833042986186,\n",
       " -0.008879072303370705,\n",
       " 0.00869736712825464,\n",
       " 0.009922391694712651,\n",
       " 0.01005554653889984,\n",
       " 0.011094154323494365,\n",
       " 0.022811780611258214,\n",
       " -0.014018849288675916,\n",
       " -0.004325176632455907,\n",
       " 0.003451066267601277,\n",
       " -0.010982918841416556,\n",
       " -0.017667292019186043,\n",
       " -0.004218652757105978,\n",
       " -0.007680678705762389,\n",
       " -0.0016887107177199212,\n",
       " -0.009331798773557942,\n",
       " 0.003051601735071685,\n",
       " 0.01588772871391697,\n",
       " -0.006162713482122939,\n",
       " 0.01519532352420061,\n",
       " 0.00273203010904588,\n",
       " -0.0008365197149462489,\n",
       " -0.004458331476609345,\n",
       " 0.002012993950483377,\n",
       " -0.011781847906474852,\n",
       " -0.00477790310265469,\n",
       " 0.011653404669054623,\n",
       " 0.009443034255667726,\n",
       " 0.0025189823583611215,\n",
       " -0.0014490319981579347,\n",
       " 0.005634805712145585,\n",
       " -0.0017952345930485336,\n",
       " -0.009065489085220868,\n",
       " -0.001741972655366908,\n",
       " -0.011488907249296965,\n",
       " -0.01841295914658314,\n",
       " 0.02254547092287229,\n",
       " 0.005714698618654701,\n",
       " 0.010002284601218214,\n",
       " -0.013113396348245487,\n",
       " 0.005395126992622679,\n",
       " -0.005709987011905504,\n",
       " 0.004196733395021468,\n",
       " -0.011036180779075977,\n",
       " 0.007099508998090087,\n",
       " 0.00592774636933413,\n",
       " -0.002327853969773308,\n",
       " -0.00019737646290973743,\n",
       " 0.00417010242617355,\n",
       " 0.011866452419718065,\n",
       " -0.007174690297892639,\n",
       " 0.01796494428311135,\n",
       " -0.010183989776330726,\n",
       " -0.008346452926647707,\n",
       " -0.0033398307855287968,\n",
       " -0.01154216918694928,\n",
       " -0.0036327714427057956,\n",
       " -0.014631361571896484,\n",
       " -0.008958965209878045,\n",
       " 0.004489674052200243,\n",
       " 0.00528860311729229,\n",
       " 0.02254547092288295,\n",
       " -0.007654047736918912,\n",
       " 0.003238018516922736,\n",
       " -0.0010761984344771491,\n",
       " -0.004511593414293635,\n",
       " -0.012447622127368163,\n",
       " -0.017241196517812085,\n",
       " 0.006114163151192287,\n",
       " -0.01031714462050104,\n",
       " 0.0011874339165842684,\n",
       " 0.00033524291382125426,\n",
       " 0.0036641140183011345,\n",
       " 0.01282516729780081,\n",
       " 0.013064846017337928,\n",
       " 0.015435002243719076,\n",
       " 0.007658759343665444,\n",
       " 0.007898438063183022,\n",
       " 0.00017545710080302257,\n",
       " 0.014183346708452227,\n",
       " -0.010183989776310298,\n",
       " 0.0014271126360902997,\n",
       " 0.015275216430715943,\n",
       " 0.004516305021033062,\n",
       " 0.01423660864614007,\n",
       " -0.009012227147546348,\n",
       " 0.002279303638839103,\n",
       " -0.009172012960575238,\n",
       " -0.006002927669123359,\n",
       " -0.003180044972520335,\n",
       " 0.0027053991402015143,\n",
       " -0.0034463546608680673,\n",
       " 0.00406357855083872,\n",
       " 0.0013472197295687494,\n",
       " -0.017108041673645324,\n",
       " -0.010796502059545965,\n",
       " -0.013273182161278818,\n",
       " 0.013464310549853309,\n",
       " -0.008133405175951403,\n",
       " 0.0063272109018646105,\n",
       " 0.006300579933019357,\n",
       " 0.00014882613196487426,\n",
       " -0.004724641164983723,\n",
       " -0.008293190988980292,\n",
       " 0.00275866107789291,\n",
       " -0.0027805804399596568,\n",
       " -0.006136082513282126,\n",
       " -0.016309112608554166,\n",
       " -0.009331798773576594,\n",
       " -0.009092120054055464,\n",
       " -0.01311339634825881,\n",
       " 0.008431057439900691,\n",
       " -0.0012359842474873872,\n",
       " 0.003957054675496785,\n",
       " 0.010002284601218214,\n",
       " -0.0006234719642641551,\n",
       " 0.023850388395843858,\n",
       " 0.0052353411796026705,\n",
       " -0.007840464518773516,\n",
       " -0.021954878001769096,\n",
       " 0.010135439445380534,\n",
       " 0.0013205887607492528,\n",
       " -0.00291373528415928,\n",
       " -0.005523570230069552,\n",
       " -0.010663347215369434,\n",
       " -0.004138759850592422,\n",
       " -0.012607407940373072,\n",
       " -0.003100152065995232,\n",
       " -0.006322499295144723,\n",
       " -0.013752539600304203,\n",
       " -0.0012093532786670025,\n",
       " -0.013113396348256146,\n",
       " -0.004591486320816074,\n",
       " -0.022807069004501024,\n",
       " 0.004329888239170465,\n",
       " -0.015723231294185958,\n",
       " 0.01655350293482094,\n",
       " -0.007414369017397782,\n",
       " 0.01045501107143032,\n",
       " 0.005128817304265176,\n",
       " 0.017219277155738233,\n",
       " 0.004329888239185564,\n",
       " -0.005923034762604473,\n",
       " 0.006220687026518235,\n",
       " 0.0023858275141765972,\n",
       " 0.005634805712145585,\n",
       " -0.004112128881757826,\n",
       " 0.019616064350948648,\n",
       " 0.0034244352987657933,\n",
       " -0.010530192371192904,\n",
       " 0.0061674250888694715,\n",
       " -0.012074788563674943,\n",
       " -0.007148059329022516,\n",
       " 0.012532226640602495,\n",
       " -0.005496939261218081,\n",
       " -0.005124105697508874,\n",
       " -0.008080143238301751,\n",
       " -0.0032599378790312272,\n",
       " 0.004303257270363403,\n",
       " -0.014924302229085917,\n",
       " 0.006673413496736558,\n",
       " -0.008666024552667295,\n",
       " -0.008452976801996748,\n",
       " 0.01865734947287301,\n",
       " -0.010290513651642463,\n",
       " -0.012767193753409956,\n",
       " -0.00033053130709248535,\n",
       " -0.0009164126214713519,\n",
       " 0.019189968849573802,\n",
       " 0.01586109774509925,\n",
       " 0.0027852920467115183,\n",
       " -0.00437843857012421,\n",
       " -0.0031534140036653113,\n",
       " 0.011759928544369025,\n",
       " -0.00898559617871797,\n",
       " 0.0024923513895194205,\n",
       " 0.008457688408739727,\n",
       " 0.006753306403260773,\n",
       " 0.018524194628696478,\n",
       " 0.0204948863225205,\n",
       " 0.007232663842307474,\n",
       " 0.014423025427980463,\n",
       " 0.008777260034758427,\n",
       " 0.0007347074463659453,\n",
       " 0.0006548145398461713,\n",
       " 0.0023059346076630405,\n",
       " -0.00144903199818458,\n",
       " 0.004942400522405244,\n",
       " -0.009864418150299592,\n",
       " -0.013619384756164976,\n",
       " -0.0054703082923932556,\n",
       " 0.017805158470104665,\n",
       " -0.004618117289651558,\n",
       " -0.0033398307855119214,\n",
       " -0.013592753787312617,\n",
       " 0.010747951728601102,\n",
       " -0.01806675655172274,\n",
       " -0.0032599378790028055,\n",
       " 0.0058212224940135116,\n",
       " -0.00800025033178553,\n",
       " 0.023237876112609968,\n",
       " 0.004569566958708471,\n",
       " 0.00587448443165961,\n",
       " 0.0032912804545937036,\n",
       " 0.007871807094328886,\n",
       " 0.022838411580076823,\n",
       " 0.0020396249193206373,\n",
       " -0.0012093532786536798,\n",
       " 0.0005216596956678643,\n",
       " 0.001054279072398856,\n",
       " 0.010534903977930554,\n",
       " 0.010907737541634432,\n",
       " -0.012660669878059139,\n",
       " -0.0077073096745952085,\n",
       " -0.0235793671007265,\n",
       " -0.022647283191481904,\n",
       " -0.010290513651650457,\n",
       " -0.012713931815722113,\n",
       " 0.0006814455086940896,\n",
       " -0.00195502040605966,\n",
       " -0.004351807601285174,\n",
       " 0.008004961938537392,\n",
       " -0.008452976801994083,\n",
       " -0.010476930433527265,\n",
       " 0.0004683977580040022,\n",
       " 0.006407103808378167,\n",
       " -0.014391682852390453,\n",
       " -0.0032599378790063582,\n",
       " 0.008537581315252396,\n",
       " 0.009443034255664173,\n",
       " 0.010614796884447664,\n",
       " -0.0004903171201089407,\n",
       " 0.010588165915609515,\n",
       " 0.006859830278604484,\n",
       " -0.006215975419796571,\n",
       " 0.003424435298773787,\n",
       " -0.0006234719642650433,\n",
       " 0.0011341719788831028,\n",
       " 0.00568806764982277,\n",
       " 0.014929013835829785,\n",
       " -0.0003571622759208637,\n",
       " 0.02222589929686425,\n",
       " -0.008639393583854904,\n",
       " 0.0011608029477123694,\n",
       " 0.014982275773513187,\n",
       " 0.014183346708432687,\n",
       " -0.006721963827673427,\n",
       " 0.0035842211117609324,\n",
       " -0.012687300846883076,\n",
       " -0.004458331476625332,\n",
       " 0.009416403286847341,\n",
       " 0.00038850485149399816,\n",
       " -0.0071746902978722105,\n",
       " -0.009624739430756257,\n",
       " 0.002146148794645697,\n",
       " -0.000437055182427315,\n",
       " -0.00560346313656801,\n",
       " -0.015829755169496806,\n",
       " -0.0023012230009280543,\n",
       " 0.009842498788203535,\n",
       " 0.012239285983398851,\n",
       " -0.0006234719642819186,\n",
       " 0.0007080764775304615,\n",
       " 0.014316501552601224,\n",
       " -0.0001707454940644837,\n",
       " -0.0029137352841521746,\n",
       " 0.0028651849532419504,\n",
       " 0.01016207041421957,\n",
       " -0.010397037527019037,\n",
       " -0.0038990811310606333,\n",
       " 0.0014271126360947406,\n",
       " -0.005417046354708965,\n",
       " -0.005816510887262538,\n",
       " -0.0069616425472043275,\n",
       " 0.007712021281323089,\n",
       " -0.017827077832194504,\n",
       " -0.00123598424749094,\n",
       " 0.013703989269404637,\n",
       " 0.005634805712160684,\n",
       " -0.004165390819435011,\n",
       " -0.018439590115429283,\n",
       " -0.0045115934142963,\n",
       " 0.0143165015526181,\n",
       " -0.0038990811310730678,\n",
       " 0.010801213666289833,\n",
       " 0.032372298423281265,\n",
       " -0.0006234719642623787,\n",
       " -0.010317144620524132,\n",
       " -0.006775225765333737,\n",
       " -0.013566122818464699,\n",
       " 0.008910414878957162,\n",
       " -0.0011827223098155315,\n",
       " 0.013304524736849288,\n",
       " 0.0005482906645033481,\n",
       " -0.006668701889983808,\n",
       " -0.0030202591595065442,\n",
       " -0.011409014342756763,\n",
       " 0.007019616091599623,\n",
       " -0.0014756629670200638,\n",
       " -0.0072812141732141455,\n",
       " -0.018839054647977527,\n",
       " -0.013672646693804857,\n",
       " -0.00882581036569352,\n",
       " 0.002998339797382066,\n",
       " -0.0018484965307230539,\n",
       " -0.0008098887461063242,\n",
       " -0.0038458191934021,\n",
       " 0.025102043931132023,\n",
       " -0.001342508122837316,\n",
       " -0.00768067870576683,\n",
       " 0.0033445423922726647,\n",
       " 0.0031314946415781364,\n",
       " -0.013592753787298406,\n",
       " -0.008905703272216847,\n",
       " 0.008937045847778435,\n",
       " 0.01338441764336018,\n",
       " -0.004937688915649829,\n",
       " -0.015323766761627944,\n",
       " 0.00851095034642313,\n",
       " 0.003877161768981452,\n",
       " -0.005150736666356792,\n",
       " 0.022678625767053262,\n",
       " 0.007152770935781483,\n",
       " 0.0065935205902354355,\n",
       " 0.021293815387583237,\n",
       " 0.006300579933019357,\n",
       " -9.085258755181513e-05,\n",
       " 0.016313824215312245,\n",
       " -0.005523570230052677,\n",
       " -0.0009164126214624702,\n",
       " -0.0005702100266020693,\n",
       " -0.010556823340029275,\n",
       " 0.000255350007305033,\n",
       " 0.0010276481035589313,\n",
       " -0.011675324031128476,\n",
       " 0.004223364363851623,\n",
       " -0.011302490467421933,\n",
       " -0.012314467283177422,\n",
       " 0.002865184953225075,\n",
       " 0.00483587664707219,\n",
       " 0.0018798391063068465,\n",
       " 0.003211387548090805,\n",
       " -0.0064822851081700605,\n",
       " -0.001741972655367796,\n",
       " 0.003397804329932974,\n",
       " -0.009811156212609085,\n",
       " -0.013512860880790178,\n",
       " 0.01237244082760558,\n",
       " -0.00866602455267973,\n",
       " -0.010210620745162657,\n",
       " 0.0007613384151525793,\n",
       " 0.006753306403252779,\n",
       " -0.009837787181445456,\n",
       " 0.006593520590214119,\n",
       " 0.012399071796417083,\n",
       " 0.007738652250163902,\n",
       " -0.0021148062190734507,\n",
       " 0.0164736100283287,\n",
       " -0.0005968409954091314,\n",
       " 0.020255207602986935,\n",
       " 0.0019064700751378894,\n",
       " -0.0015289249046954723,\n",
       " 0.003211387548065936,\n",
       " 0.014636073178648346,\n",
       " -0.009970942025630869,\n",
       " 0.008271271626870913,\n",
       " -0.006349130263958891,\n",
       " 0.020335100509495163,\n",
       " -0.014205266070534073,\n",
       " -0.001928389437238387,\n",
       " -0.00943832264893274,\n",
       " 0.007126139966954881,\n",
       " 0.004835876647073967,\n",
       " -0.002860473346471437,\n",
       " 0.007978330969706349,\n",
       " -0.0110361807790742,\n",
       " -0.0124476221273504,\n",
       " -0.01242099115855666,\n",
       " -0.0009963055279884614,\n",
       " 0.0032912804545830454,\n",
       " 0.011307202074172018,\n",
       " 0.017805158470110882,\n",
       " -0.008879072303394686,\n",
       " -0.03122245515660005,\n",
       " 0.0010010171347101249,\n",
       " -0.010583454308877194,\n",
       " 0.017245908124551512,\n",
       " 0.0035309591741281565,\n",
       " 0.0014537436049151253,\n",
       " 0.005847853462819685,\n",
       " -0.004484962445442164,\n",
       " 0.014289870583787945,\n",
       " 0.001560267480265054,\n",
       " 0.0024923513895336313,\n",
       " 0.012052869201568228,\n",
       " 0.0037972688624687834,\n",
       " 0.0074723425618294925,\n",
       " 0.0076853903125027045,\n",
       " 0.004755983740556857,\n",
       " 0.0016401603867759462,\n",
       " 0.007871807094367078,\n",
       " 0.004569566958709359,\n",
       " -0.00017074549405915462,\n",
       " 0.00510218633543591,\n",
       " -0.023845676789087555,\n",
       " -0.0009963055279840205,\n",
       " 0.0010276481035411678,\n",
       " 0.014449656396783972,\n",
       " -0.0033398307855287968,\n",
       " 0.004143471457329184,\n",
       " 0.015088799648860451,\n",
       " 0.002039624919293992,\n",
       " -0.00038379324474036025,\n",
       " 0.005048924397764942,\n",
       " 0.003930423706645314,\n",
       " -0.019531459837690335,\n",
       " 0.012212655014597118,\n",
       " -0.016468898421573286,\n",
       " 0.016846443592024585,\n",
       " 0.00036187388266029075,\n",
       " 0.0128784292354851,\n",
       " 0.0054750198991371235,\n",
       " -0.0005702100265985166,\n",
       " 0.0029184468908942662,\n",
       " 0.004569566958712912,\n",
       " -0.0035528785362153315,\n",
       " 0.005048924397749843,\n",
       " -0.005310522479369695,\n",
       " 0.006753306403251003,\n",
       " -0.013326444098955115,\n",
       " -0.003526247567366525,\n",
       " -0.004351807601275404,\n",
       " 0.006327210901885039,\n",
       " -0.016788470047607973,\n",
       " -0.008479607770834008,\n",
       " -0.0031800449725132296,\n",
       " 0.008937045847774883,\n",
       " 0.011520249824862994,\n",
       " -0.018812423679108292,\n",
       " 0.006966354153940202,\n",
       " 0.0006548145398541649,\n",
       " 0.017672003625928134,\n",
       " 0.005395126992634225,\n",
       " 0.0015336365114562156,\n",
       " -0.00823992905133597,\n",
       " -0.008160036144786886,\n",
       " 0.01580783580740963,\n",
       " -0.0012626152163273119,\n",
       " 0.014902382866996966,\n",
       " 0.006913092216283445,\n",
       " 0.0027320301090441035,\n",
       " 0.01162677370019427,\n",
       " 0.005182079241912163,\n",
       " 0.0025456133271779535,\n",
       " -0.0046181172896408995,\n",
       " -0.0013158771539902858,\n",
       " -0.018013494614026015,\n",
       " -0.008000250331798853,\n",
       " 0.01612740743343899,\n",
       " -0.006295868326300358,\n",
       " 0.005661436680974852,\n",
       " 0.0008412313217016631,\n",
       " -0.005843141856074929,\n",
       " -0.006961642547201663,\n",
       " 0.0002553500072961512,\n",
       " 0.010375118164929198,\n",
       " -0.013086765379424214,\n",
       " 0.01623393130879336,\n",
       " 0.016979598436202892,\n",
       " -0.00022400743172923399,\n",
       " -6.422161871189047e-05,\n",
       " 0.006513627683721879,\n",
       " 0.0012140648854002123,\n",
       " -0.003020259159486116,\n",
       " 0.0108544756039759,\n",
       " -0.006535547045801948,\n",
       " 0.0008944932593699662,\n",
       " -0.020490174715790843,\n",
       " -0.0038458191933878894,\n",
       " -0.01212805050134147,\n",
       " 0.0039037927378071657,\n",
       " 0.023983543240016836,\n",
       " -0.00033053130708893264,\n",
       " 0.0024657204206830485,\n",
       " -0.003153414003674193,\n",
       " 0.005315234086111786,\n",
       " -0.007920357425281743,\n",
       " 0.008457688408756603,\n",
       " 0.0008944932593584198,\n",
       " 0.0006814455086896487,\n",
       " 0.00736581868648134,\n",
       " -0.011222597560912817,\n",
       " -0.0009696745591192268,\n",
       " -0.00429854566361243,\n",
       " -0.0006501029331236197,\n",
       " 0.0019064700751219021,\n",
       " 0.012159393076901281,\n",
       " -0.0022479610632499814,\n",
       " 0.010614796884447664,\n",
       " -0.016282481639692037,\n",
       " -0.0097845252437887,\n",
       " 0.01106752335465977,\n",
       " -0.011808478875304118,\n",
       " 0.024383007772541987,\n",
       " 0.003530959174125492,\n",
       " -0.004644748258474607,\n",
       " -0.007467630955075855,\n",
       " -0.011622062093471719,\n",
       " -0.005150736666356792,\n",
       " 0.009256617473800688,\n",
       " 0.010401749133763794,\n",
       " -0.002247961063252646,\n",
       " 9.556419431167029e-05,\n",
       " 0.00046839775799245587,\n",
       " 0.0011075410100529481,\n",
       " 0.010321856227256454,\n",
       " 0.010987630448140884,\n",
       " -0.006721963827670763,\n",
       " -0.007787202581093666,\n",
       " 0.005901115400501311,\n",
       " 0.011040892385791423,\n",
       " 0.0021195178258315295,\n",
       " -0.000969674559135214,\n",
       " 0.0002553500073041448,\n",
       " -0.007840464518779733,\n",
       " 0.015221954493027212,\n",
       " 0.0035309591741281565,\n",
       " -0.0005702100266011811,\n",
       " -0.004990950853329679,\n",
       " 0.012612119547122269,\n",
       " 0.004010316613149101,\n",
       " -0.010716609153030632,\n",
       " -0.008985596178694877,\n",
       " 0.008031592907374652,\n",
       " -0.007440999986237706,\n",
       " 0.0054750198991468935,\n",
       " -0.003819188224543524,\n",
       " 0.0055016508679637255,\n",
       " -0.002434377845104585,\n",
       " 0.015861097745095698,\n",
       " -0.007547523861573424,\n",
       " 0.0031314946415683664,\n",
       " 0.002172779763491839,\n",
       " 0.018683980441688952,\n",
       " -0.00541704635471163,\n",
       " 0.005128817304269617,\n",
       " -0.00786709548757436,\n",
       " -0.0144982067277164,\n",
       " -0.00983778718148276,\n",
       " 0.00901693875428844,\n",
       " -0.00022400743173811577,\n",
       " 0.005954377338163397,\n",
       " 0.013171369892684304,\n",
       " 0.0012140648853824487,\n",
       " 0.003371173361096602,\n",
       " -0.0005435790577434929,\n",
       " -0.010476930433511278,\n",
       " -0.010716609153047507,\n",
       " 0.00462282889639809,\n",
       " 0.0036641140182904763,\n",
       " -0.018253173333565798,\n",
       " 0.006140794120011783,\n",
       " -0.014924302229093023,\n",
       " -0.0009430435903059475,\n",
       " 0.015461633212566994,\n",
       " 0.006806568340930852,\n",
       " 0.0010010171347296648,\n",
       " 0.0030782327039045043,\n",
       " -0.00019737646290440836,\n",
       " 0.009682712975181751,\n",
       " -0.006908380609525366,\n",
       " 0.004889138584728947,\n",
       " 0.0072326638422994805,\n",
       " 0.02286504254891053,\n",
       " 0.0010809100412325634,\n",
       " -0.004112128881769372,\n",
       " -0.005869772824931729,\n",
       " 0.008058223876209247,\n",
       " 0.013703989269402861,\n",
       " 0.011387094980660706,\n",
       " 0.005501650867940633,\n",
       " -0.0013158771540089376,\n",
       " -0.013326444098951562,\n",
       " 0.012825167297814133,\n",
       " -0.006429023170483106,\n",
       " -0.00682848770302158,\n",
       " -0.003446354660866291,\n",
       " 0.007072878029278584,\n",
       " 0.005821222494001965,\n",
       " -0.01569660032534248,\n",
       " -0.00014411452522367085,\n",
       " 0.001906470075156541,\n",
       " 0.0016135294179306925,\n",
       " 0.008431057439904244,\n",
       " 0.012079500170399271,\n",
       " 0.0019331010439742613,\n",
       " 0.022332423172191085,\n",
       " -0.003153414003654653,\n",
       " -0.017986863645224282,\n",
       " 0.01868398044169428,\n",
       " -0.015323766761612845,\n",
       " -0.0007033648707546192,\n",
       " -0.0058964037937592195,\n",
       " -0.003872450162237584,\n",
       " -0.010343775589332083,\n",
       " -0.019797769526044284,\n",
       " 0.015994252589279334,\n",
       " -0.004911057946830333,\n",
       " -0.002833842377628848,\n",
       " -0.0003571622758871129,\n",
       " 0.0037173759559800956,\n",
       " -0.004751272133814766,\n",
       " -0.011275859498596219,\n",
       " -0.0016887107176772886,\n",
       " 0.007365818686476899,\n",
       " -0.01817328042705757,\n",
       " 0.008883783910128784,\n",
       " -0.01287371762874212,\n",
       " 0.004409781145684022,\n",
       " -0.006029558637938415,\n",
       " -0.012980241504071621,\n",
       " -0.0020615442814140295,\n",
       " 0.0008146003528510803,\n",
       " -9.085258753849246e-05,\n",
       " 0.0017466842621187695,\n",
       " 0.00110754101006183,\n",
       " -0.0168417319852745,\n",
       " 0.01002891557006258,\n",
       " 0.0007613384151889946,\n",
       " -0.0015555558735194097,\n",
       " 0.026433592372910653,\n",
       " -0.014924302229093023,\n",
       " -0.008426345833161264,\n",
       " -0.006855118671851734,\n",
       " -0.009198643929397399,\n",
       " -0.0025675326892908856,\n",
       " 0.01239907179643751,\n",
       " 0.007818545156664136,\n",
       " 0.011520249824858553,\n",
       " 0.002865184953219746,\n",
       " 0.020894350855068744,\n",
       " 0.0060875321823647965,\n",
       " 0.005235341179596453,\n",
       " 0.0013205887607323774,\n",
       " -0.012767193753397521,\n",
       " -0.01777381589453597,\n",
       " -0.003073521097184617,\n",
       " 0.013331155705689213,\n",
       " 0.006433734777229638,\n",
       " -0.015536814512319808,\n",
       " 0.013757251207065835,\n",
       " 0.015328478368368259,\n",
       " -0.0020615442814149176,\n",
       " 0.009443034255665061,\n",
       " 0.00475598374057018,\n",
       " 0.011680035637866126,\n",
       " 0.0019064700751174612,\n",
       " 0.014795858991671906,\n",
       " 0.005235341179605335,\n",
       " 0.00813811678269527,\n",
       " ...]"
      ]
     },
     "execution_count": 53,
     "metadata": {},
     "output_type": "execute_result"
    }
   ],
   "source": [
    "# The difference in the means for Permutation1 (0.001103) now looks hugely different to our observed difference of 0.14206. \n",
    "# It's sure starting to look like our observed difference is significant, and that the Null is false; platform does impact on ratings\n",
    "# But to be sure, let's create 10,000 permutations, calculate the mean ratings for Google and Apple apps and the difference between these for each one, and then take the average of all of these differences.\n",
    "# Let's create a vector with the differences - that will be the distibution of the Null.\n",
    "\n",
    "# First, make a list called difference.\n",
    "difference = []\n",
    "\n",
    "# Now make a for loop that does the following 10,000 times:\n",
    "# 1. makes a permutation of the 'Rating' as you did above\n",
    "# 2. calculates the difference in the mean rating for apple and the mean rating for google. \n",
    "for i in range(10000):\n",
    "    df['permutation'] = np.random.permutation(df['Rating'])\n",
    "    grouped = df.groupby(by='platform')['permutation'].mean()\n",
    "    diff = grouped.iloc[0] - grouped.iloc[1]\n",
    "    difference.append(diff)\n",
    "\n",
    "difference\n"
   ]
  },
  {
   "cell_type": "code",
   "execution_count": 54,
   "metadata": {
    "colab": {},
    "colab_type": "code",
    "id": "VlzpYTkYFcv_"
   },
   "outputs": [
    {
     "data": {
      "image/png": "[encoded data removed]",
      "text/plain": [
       "<Figure size 432x288 with 1 Axes>"
      ]
     },
     "metadata": {
      "needs_background": "light"
     },
     "output_type": "display_data"
    }
   ],
   "source": [
    "# Make a variable called 'histo', and assign to it the result of plotting a histogram of the difference list. \n",
    "histo = plt.hist(difference)"
   ]
  },
  {
   "cell_type": "code",
   "execution_count": 57,
   "metadata": {
    "colab": {},
    "colab_type": "code",
    "id": "KhqgDFd3FcwB"
   },
   "outputs": [
    {
     "data": {
      "text/plain": [
       "0.14206054745123442"
      ]
     },
     "execution_count": 57,
     "metadata": {},
     "output_type": "execute_result"
    }
   ],
   "source": [
    "# Now make a variable called obs_difference, and assign it the result of the mean of our 'apple' variable and the mean of our 'google variable'\n",
    "obs_difference = np.mean(apple) - np.mean(google)\n",
    "\n",
    "# Make this difference absolute with the built-in abs() function. \n",
    "obs_difference = abs(obs_difference)\n",
    "\n",
    "# Print out this value; it should be 0.1420605474512291. \n",
    "obs_difference"
   ]
  },
  {
   "cell_type": "markdown",
   "metadata": {
    "colab_type": "text",
    "id": "QUNuuSgDFcwE"
   },
   "source": [
    "## Stage 4 -  Evaluating and concluding\n",
    "### 4a. What is our conclusion?"
   ]
  },
  {
   "cell_type": "code",
   "execution_count": null,
   "metadata": {
    "colab": {},
    "colab_type": "code",
    "id": "XMQHnqx1FcwF"
   },
   "outputs": [],
   "source": [
    "'''\n",
    "What do we know? \n",
    "\n",
    "Recall: The p-value of our observed data is just the proportion of the data given the null that's at least as extreme as that observed data.\n",
    "\n",
    "As a result, we're going to count how many of the differences in our difference list are at least as extreme as our observed difference.\n",
    "\n",
    "If less than or equal to 5% of them are, then we will reject the Null. \n",
    "'''\n",
    "\n",
    "'There is datapoint in our differece list as extreme as the observed difference in mean rating.'\n",
    "'We reject the null hypotesis that the observed difference is due to chance.'"
   ]
  },
  {
   "cell_type": "markdown",
   "metadata": {
    "colab_type": "text",
    "id": "4RTofY9wFcwI"
   },
   "source": [
    "### 4b. What is our decision?\n",
    "So actually, zero differences are at least as extreme as our observed difference!\n",
    "\n",
    "So the p-value of our observed data is 0. \n",
    "\n",
    "It doesn't matter which significance level we pick; our observed data is statistically significant, and we reject the Null.\n",
    "\n",
    "We conclude that platform does impact on ratings. Specifically, we should advise our client to integrate **only Google Play** into their operating system interface. "
   ]
  },
  {
   "cell_type": "markdown",
   "metadata": {
    "colab_type": "text",
    "id": "Cu_eh7fTFcwJ"
   },
   "source": [
    "### 4c. Other statistical tests, and next steps\n",
    "The test we used here is the Permutation test. This was appropriate because our data were not normally distributed! \n",
    "\n",
    "As we've seen in Professor Spiegelhalter's book, there are actually many different statistical tests, all with different assumptions. How many of these different statistical tests can you remember? How much do you remember about what the appropriate conditions are under which to use them? \n",
    "\n",
    "Make a note of your answers to these questions, and discuss them with your mentor at your next call. \n"
   ]
  }
 ],
 "metadata": {
  "colab": {
   "collapsed_sections": [
    "5fbRq2MZFcvq",
    "4RTofY9wFcwI",
    "Cu_eh7fTFcwJ"
   ],
   "name": "Springboard Apps project - Tier 3 - Complete.ipynb",
   "provenance": []
  },
  "kernelspec": {
   "display_name": "Python 3",
   "language": "python",
   "name": "python3"
  },
  "language_info": {
   "codemirror_mode": {
    "name": "ipython",
    "version": 3
   },
   "file_extension": ".py",
   "mimetype": "text/x-python",
   "name": "python",
   "nbconvert_exporter": "python",
   "pygments_lexer": "ipython3",
   "version": "3.8.3"
  }
 },
 "nbformat": 4,
 "nbformat_minor": 1
}
